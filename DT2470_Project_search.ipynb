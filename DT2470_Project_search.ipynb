{
 "cells": [
  {
   "cell_type": "code",
   "execution_count": null,
   "metadata": {
    "colab": {
     "base_uri": "https://localhost:8080/"
    },
    "id": "PGnKf_Vha-mb",
    "outputId": "2f1a596f-84c3-4201-c1f2-19c6639303f8"
   },
   "outputs": [
    {
     "name": "stdout",
     "output_type": "stream",
     "text": [
      "Collecting pydub\n",
      "  Downloading pydub-0.25.1-py2.py3-none-any.whl (32 kB)\n",
      "Installing collected packages: pydub\n",
      "Successfully installed pydub-0.25.1\n",
      "Requirement already satisfied: librosa in /usr/local/lib/python3.7/dist-packages (0.8.1)\n",
      "Requirement already satisfied: pooch>=1.0 in /usr/local/lib/python3.7/dist-packages (from librosa) (1.5.1)\n",
      "Requirement already satisfied: soundfile>=0.10.2 in /usr/local/lib/python3.7/dist-packages (from librosa) (0.10.3.post1)\n",
      "Requirement already satisfied: audioread>=2.0.0 in /usr/local/lib/python3.7/dist-packages (from librosa) (2.1.9)\n",
      "Requirement already satisfied: scikit-learn!=0.19.0,>=0.14.0 in /usr/local/lib/python3.7/dist-packages (from librosa) (0.22.2.post1)\n",
      "Requirement already satisfied: joblib>=0.14 in /usr/local/lib/python3.7/dist-packages (from librosa) (1.0.1)\n",
      "Requirement already satisfied: numpy>=1.15.0 in /usr/local/lib/python3.7/dist-packages (from librosa) (1.19.5)\n",
      "Requirement already satisfied: resampy>=0.2.2 in /usr/local/lib/python3.7/dist-packages (from librosa) (0.2.2)\n",
      "Requirement already satisfied: scipy>=1.0.0 in /usr/local/lib/python3.7/dist-packages (from librosa) (1.4.1)\n",
      "Requirement already satisfied: packaging>=20.0 in /usr/local/lib/python3.7/dist-packages (from librosa) (21.0)\n",
      "Requirement already satisfied: numba>=0.43.0 in /usr/local/lib/python3.7/dist-packages (from librosa) (0.51.2)\n",
      "Requirement already satisfied: decorator>=3.0.0 in /usr/local/lib/python3.7/dist-packages (from librosa) (4.4.2)\n",
      "Requirement already satisfied: llvmlite<0.35,>=0.34.0.dev0 in /usr/local/lib/python3.7/dist-packages (from numba>=0.43.0->librosa) (0.34.0)\n",
      "Requirement already satisfied: setuptools in /usr/local/lib/python3.7/dist-packages (from numba>=0.43.0->librosa) (57.4.0)\n",
      "Requirement already satisfied: pyparsing>=2.0.2 in /usr/local/lib/python3.7/dist-packages (from packaging>=20.0->librosa) (2.4.7)\n",
      "Requirement already satisfied: appdirs in /usr/local/lib/python3.7/dist-packages (from pooch>=1.0->librosa) (1.4.4)\n",
      "Requirement already satisfied: requests in /usr/local/lib/python3.7/dist-packages (from pooch>=1.0->librosa) (2.23.0)\n",
      "Requirement already satisfied: six>=1.3 in /usr/local/lib/python3.7/dist-packages (from resampy>=0.2.2->librosa) (1.15.0)\n",
      "Requirement already satisfied: cffi>=1.0 in /usr/local/lib/python3.7/dist-packages (from soundfile>=0.10.2->librosa) (1.14.6)\n",
      "Requirement already satisfied: pycparser in /usr/local/lib/python3.7/dist-packages (from cffi>=1.0->soundfile>=0.10.2->librosa) (2.20)\n",
      "Requirement already satisfied: certifi>=2017.4.17 in /usr/local/lib/python3.7/dist-packages (from requests->pooch>=1.0->librosa) (2021.5.30)\n",
      "Requirement already satisfied: idna<3,>=2.5 in /usr/local/lib/python3.7/dist-packages (from requests->pooch>=1.0->librosa) (2.10)\n",
      "Requirement already satisfied: chardet<4,>=3.0.2 in /usr/local/lib/python3.7/dist-packages (from requests->pooch>=1.0->librosa) (3.0.4)\n",
      "Requirement already satisfied: urllib3!=1.25.0,!=1.25.1,<1.26,>=1.21.1 in /usr/local/lib/python3.7/dist-packages (from requests->pooch>=1.0->librosa) (1.24.3)\n"
     ]
    }
   ],
   "source": [
    "!pip install pydub\n",
    "!pip install librosa"
   ]
  },
  {
   "cell_type": "code",
   "execution_count": 1,
   "metadata": {
    "id": "Rh7QVWYYa9XZ",
    "scrolled": false
   },
   "outputs": [
    {
     "name": "stderr",
     "output_type": "stream",
     "text": [
      "E:\\Program Files\\anaconda3\\lib\\site-packages\\pydub\\utils.py:170: RuntimeWarning: Couldn't find ffmpeg or avconv - defaulting to ffmpeg, but may not work\n",
      "  warn(\"Couldn't find ffmpeg or avconv - defaulting to ffmpeg, but may not work\", RuntimeWarning)\n"
     ]
    }
   ],
   "source": [
    "import numpy as np\n",
    "import matplotlib\n",
    "import matplotlib.pyplot as plt\n",
    "import pydub\n",
    "from scipy import signal\n",
    "import librosa\n",
    "import librosa.display\n",
    "\n",
    "def get_samples(sound):\n",
    "    channel_count = sound.channels\n",
    "    if channel_count == 1:\n",
    "        samples = np.array(sound.get_array_of_samples())\n",
    "    elif channel_count == 2:\n",
    "        sound_mono = sound.split_to_mono()\n",
    "        samples = np.array(sound_mono[0].get_array_of_samples())\n",
    "    else:\n",
    "        raise Exception(\"More than 2 channels!\")\n",
    "    return samples\n",
    "\n",
    "def plot_stft(t, f, dB, anchors=None):\n",
    "\n",
    "    params = {'legend.fontsize': 'x-large','figure.figsize': (25, 6),\n",
    "         'axes.labelsize': 'x-large','axes.titlesize':'x-large',\n",
    "         'xtick.labelsize':'x-large','ytick.labelsize':'x-large'}\n",
    "    plt.rcParams.update(params)\n",
    "\n",
    "    fig = plt.figure()\n",
    "    plt.pcolormesh(t, f, dB, cmap='YlOrRd', shading='auto')\n",
    "    fig.suptitle('Short-time Fourier transform (window duration 50ms, hopsize 10 ms)')\n",
    "    plt.xlabel('Time (s)')\n",
    "    plt.ylabel('Frequency (kHz)')\n",
    "    plt.colorbar(format='%+02.0f dB')\n",
    "    plt.ylim([0, 5])\n",
    "    if anchors is not None:\n",
    "        anchors_t, anchors_f = map(list, zip(*anchors))\n",
    "        plt.scatter(anchors_t, anchors_f, marker='x', color='black')\n",
    "    plt.show()\n",
    "    \n",
    "def generate_anchors(t, f, dB):\n",
    "    delta_t = 0.1\n",
    "    f_num_bands = 25\n",
    "\n",
    "    t_rate = len(t) / (t[-1] - t[0])\n",
    "    delta_i = int(delta_t * t_rate)\n",
    "    if delta_i == 0:\n",
    "        delta_i = 1\n",
    "    delta_j = int(len(f) / f_num_bands)\n",
    "\n",
    "    anchors_t = []\n",
    "    anchors_f = []\n",
    "    anchors = []\n",
    "\n",
    "    for i in range(0, len(t) - delta_i, delta_i):\n",
    "        for j in range(0, len(f) - delta_j, delta_j):\n",
    "            tmp = dB[j:j+delta_j, i:i+delta_i]\n",
    "            ind = np.unravel_index(np.argmax(tmp, axis=None), tmp.shape)\n",
    "            anchors_t.append(t[i + ind[1]])\n",
    "            anchors_f.append(f[j + ind[0]])\n",
    "            anchors.append((t[i + ind[1]], f[j + ind[0]]))\n",
    "    \n",
    "    return anchors\n",
    "\n",
    "def generate_fingerprint(anchors):\n",
    "    F = []\n",
    "    t_offset = 0.1\n",
    "    t_window = 0.5\n",
    "    f_factors = (2**-0.5, 2**0.5)\n",
    "\n",
    "    anchors.sort(key=lambda x: x[0])\n",
    "    for t1, f1 in anchors:\n",
    "        t_min = t1 + t_offset\n",
    "        t_max = t1 + t_offset + t_window\n",
    "        f_min = f1 * f_factors[0]\n",
    "        f_max = f1 * f_factors[1]\n",
    "        for t2, f2 in anchors:\n",
    "            if t2 < t_min or t2 > t_max or f2 < f_min or f2 > f_max:\n",
    "                continue\n",
    "            h = (f1, f2, t2 - t1)\n",
    "            F.append((t1, h))\n",
    "    \n",
    "    return F\n",
    "\n",
    "def generate_matches(F1, F2):\n",
    "    matches = []\n",
    "    h_range = range(len(F1[0][1]))\n",
    "    for t1, h1 in F1:\n",
    "        for t2, h2 in F2:\n",
    "            match = True\n",
    "            for i in h_range:\n",
    "                if h1[i] != h2[i]:\n",
    "                    match = False\n",
    "                    break\n",
    "            if match:\n",
    "                matches.append((t1, t2))\n",
    "    return matches\n",
    "\n",
    "def generate_num_of_matches(F1, F2):\n",
    "    num_of_matches = 0\n",
    "    h_range = range(len(F1[0][1]))\n",
    "    for t1, h1 in F1:\n",
    "        for t2, h2 in F2:\n",
    "            match = True\n",
    "            for i in h_range:\n",
    "                if h1[i] != h2[i]:\n",
    "                    match = False\n",
    "                    break\n",
    "            if match:\n",
    "                num_of_matches = num_of_matches + 1\n",
    "    return num_of_matches\n",
    "\n",
    "def plot_matches(matches, self_compare=False):\n",
    "    params = {'legend.fontsize': 'x-large','figure.figsize': (12, 12),\n",
    "            'axes.labelsize': 'x-large','axes.titlesize':'x-large',\n",
    "            'xtick.labelsize':'x-large','ytick.labelsize':'x-large'}\n",
    "    plt.rcParams.update(params)\n",
    "    fig = plt.figure()\n",
    "    matches_t1, matches_t2 = map(list, zip(*matches))\n",
    "    plt.scatter(matches_t1, matches_t2, marker='x', color='black')\n",
    "    plt.xlabel('Time in query signal (s)')\n",
    "    if self_compare:\n",
    "        plt.ylabel('Time in query signal (s)')\n",
    "    else:\n",
    "        plt.ylabel('Time in document signal (s)')\n",
    "    plt.show()"
   ]
  },
  {
   "cell_type": "code",
   "execution_count": 2,
   "metadata": {
    "id": "zKU4QszSa9Xc",
    "scrolled": false
   },
   "outputs": [],
   "source": [
    "def get_stft(snd_file, type = 0):\n",
    "    if type == 0: sound = pydub.AudioSegment.from_file(snd_file, format=\"wav\") \n",
    "    if type == 1: sound = pydub.AudioSegment.from_file(snd_file, format=\"m4a\") \n",
    "    samples = get_samples(sound)\n",
    "    duration = sound.duration_seconds\n",
    "    window_ms = 50.0\n",
    "    hop_ms = 10.0\n",
    "    nperseg = (window_ms / 1000.0) * sound.frame_rate\n",
    "    noverlap = ((window_ms - hop_ms) / 1000.0) * sound.frame_rate\n",
    "    f, t, Zxx  = signal.stft(samples, fs = sound.frame_rate, window = 'hann', nperseg = nperseg, noverlap = noverlap, nfft = 50*4/1000*sound.frame_rate)\n",
    "    f /= 1000.0\n",
    "    dB = 20 * np.log10(np.abs(Zxx / abs(Zxx).max()))\n",
    "    return t, f, dB"
   ]
  },
  {
   "cell_type": "code",
   "execution_count": 3,
   "metadata": {
    "id": "5f8_wWe9a9Xd"
   },
   "outputs": [],
   "source": [
    "def get_fingerprint(snd_file, type = 0):\n",
    "    t, f, dB = get_stft(snd_file, type)\n",
    "    anchors = generate_anchors(t, f, dB)\n",
    "    Fp = generate_fingerprint(anchors)\n",
    "    return Fp"
   ]
  },
  {
   "cell_type": "code",
   "execution_count": 4,
   "metadata": {
    "id": "iuDN09AeqaK5"
   },
   "outputs": [],
   "source": [
    "import pickle"
   ]
  },
  {
   "cell_type": "code",
   "execution_count": null,
   "metadata": {
    "colab": {
     "base_uri": "https://localhost:8080/"
    },
    "id": "0q4ud87ra9Xe",
    "outputId": "5002d6ae-1024-4aae-d725-f2eb40b33b74"
   },
   "outputs": [
    {
     "name": "stdout",
     "output_type": "stream",
     "text": [
      "fingerprint generated: Q1\n",
      "fingerprint generated: Q2\n",
      "fingerprint generated: Q3\n",
      "fingerprint generated: Q4\n",
      "fingerprint generated: Q5\n",
      "fingerprint generated: Q6\n"
     ]
    }
   ],
   "source": [
    "### Write a program to locate the files in the kiki-bouba collection from which all these queries come.\n",
    "\n",
    "### generate query fingerprints and write to query.pckl\n",
    "\n",
    "f = open('query.pckl', 'wb')\n",
    "F_q_arr = []\n",
    "for i in range(1,7):\n",
    "    query_file = \"Q\" + str(i) + \".wav\"\n",
    "    F_q = get_fingerprint(query_file)\n",
    "    print(\"fingerprint generated: Q\" + str(i))\n",
    "    F_q_arr.append(F_q)\n",
    "pickle.dump(F_q_arr, f)\n",
    "f.close()\n"
   ]
  },
  {
   "cell_type": "code",
   "execution_count": 5,
   "metadata": {
    "colab": {
     "base_uri": "https://localhost:8080/"
    },
    "id": "tR-4dYEta9Xe",
    "outputId": "0b021b7f-5a0e-406d-d8dd-480c720faf64"
   },
   "outputs": [
    {
     "data": {
      "text/plain": [
       "6"
      ]
     },
     "execution_count": 5,
     "metadata": {},
     "output_type": "execute_result"
    }
   ],
   "source": [
    "f = open('query.pckl', 'rb')\n",
    "F_q_arr_read = pickle.load(f)\n",
    "f.close()\n",
    "len(F_q_arr_read)"
   ]
  },
  {
   "cell_type": "code",
   "execution_count": null,
   "metadata": {
    "colab": {
     "base_uri": "https://localhost:8080/"
    },
    "id": "3mOuwWOLa9Xf",
    "outputId": "818b78bb-8428-4318-e60b-84bc0166ed36"
   },
   "outputs": [
    {
     "name": "stdout",
     "output_type": "stream",
     "text": [
      "fingerprint generated: kiki_0001\n",
      "fingerprint generated: kiki_0002\n",
      "fingerprint generated: kiki_0003\n",
      "fingerprint generated: kiki_0004\n",
      "fingerprint generated: kiki_0005\n",
      "fingerprint generated: kiki_0006\n",
      "fingerprint generated: kiki_0007\n",
      "fingerprint generated: kiki_0008\n",
      "fingerprint generated: kiki_0009\n",
      "fingerprint generated: kiki_0010\n"
     ]
    }
   ],
   "source": [
    "f = open('kiki1.pckl', 'wb')\n",
    "F_kiki1_arr = []\n",
    "for i in range(1,11):\n",
    "    index = str(i).zfill(4)\n",
    "    kiki_file = \"kiki_\" + index + \".m4a\"\n",
    "    F_kiki = get_fingerprint(kiki_file, 1)\n",
    "    print(\"fingerprint generated: kiki_\" + index)\n",
    "    F_kiki1_arr.append(F_kiki)\n",
    "pickle.dump(F_kiki1_arr, f)\n",
    "f.close()"
   ]
  },
  {
   "cell_type": "code",
   "execution_count": null,
   "metadata": {
    "colab": {
     "base_uri": "https://localhost:8080/"
    },
    "id": "LurbLLQl_faU",
    "outputId": "a7fdc5b1-bd6c-4757-f624-fd116c13e272"
   },
   "outputs": [
    {
     "name": "stdout",
     "output_type": "stream",
     "text": [
      "fingerprint generated: bouba_0001\n",
      "fingerprint generated: bouba_0002\n",
      "fingerprint generated: bouba_0003\n",
      "fingerprint generated: bouba_0004\n",
      "fingerprint generated: bouba_0005\n",
      "fingerprint generated: bouba_0006\n",
      "fingerprint generated: bouba_0007\n"
     ]
    },
    {
     "name": "stderr",
     "output_type": "stream",
     "text": [
      "/usr/local/lib/python3.7/dist-packages/ipykernel_launcher.py:12: RuntimeWarning: divide by zero encountered in log10\n",
      "  if sys.path[0] == '':\n"
     ]
    },
    {
     "name": "stdout",
     "output_type": "stream",
     "text": [
      "fingerprint generated: bouba_0008\n",
      "fingerprint generated: bouba_0009\n"
     ]
    },
    {
     "name": "stderr",
     "output_type": "stream",
     "text": [
      "/usr/local/lib/python3.7/dist-packages/ipykernel_launcher.py:12: RuntimeWarning: divide by zero encountered in log10\n",
      "  if sys.path[0] == '':\n"
     ]
    },
    {
     "name": "stdout",
     "output_type": "stream",
     "text": [
      "fingerprint generated: bouba_0010\n"
     ]
    }
   ],
   "source": [
    "f = open('bouba1.pckl', 'wb')\n",
    "F_bouba1_arr = []\n",
    "for i in range(1,11):\n",
    "    index = str(i).zfill(4)\n",
    "    bouba_file = \"bouba_\" + index + \".m4a\"\n",
    "    F_bouba = get_fingerprint(bouba_file, 1)\n",
    "    print(\"fingerprint generated: bouba_\" + index)\n",
    "    F_bouba1_arr.append(F_bouba)\n",
    "pickle.dump(F_bouba1_arr, f)\n",
    "f.close()"
   ]
  },
  {
   "cell_type": "code",
   "execution_count": null,
   "metadata": {
    "colab": {
     "base_uri": "https://localhost:8080/"
    },
    "id": "sDjJteGct3ZD",
    "outputId": "77c9a386-e31d-40a5-f5a9-12e93589925b"
   },
   "outputs": [
    {
     "name": "stdout",
     "output_type": "stream",
     "text": [
      "fingerprint generated: kiki_0011\n"
     ]
    },
    {
     "name": "stderr",
     "output_type": "stream",
     "text": [
      "/usr/local/lib/python3.7/dist-packages/ipykernel_launcher.py:12: RuntimeWarning: divide by zero encountered in log10\n",
      "  if sys.path[0] == '':\n"
     ]
    },
    {
     "name": "stdout",
     "output_type": "stream",
     "text": [
      "fingerprint generated: kiki_0012\n",
      "fingerprint generated: kiki_0013\n",
      "fingerprint generated: kiki_0014\n",
      "fingerprint generated: kiki_0015\n",
      "fingerprint generated: kiki_0016\n",
      "fingerprint generated: kiki_0017\n",
      "fingerprint generated: kiki_0018\n",
      "fingerprint generated: kiki_0019\n",
      "fingerprint generated: kiki_0020\n"
     ]
    }
   ],
   "source": [
    "f = open('kiki2.pckl', 'wb')\n",
    "F_kiki2_arr = []\n",
    "for i in range(11,21):\n",
    "    index = str(i).zfill(4)\n",
    "    kiki_file = \"kiki_\" + index + \".m4a\"\n",
    "    F_kiki = get_fingerprint(kiki_file, 1)\n",
    "    print(\"fingerprint generated: kiki_\" + index)\n",
    "    F_kiki2_arr.append(F_kiki)\n",
    "pickle.dump(F_kiki2_arr, f)\n",
    "f.close()"
   ]
  },
  {
   "cell_type": "code",
   "execution_count": null,
   "metadata": {
    "colab": {
     "base_uri": "https://localhost:8080/"
    },
    "id": "Kq60Hrs5_faV",
    "outputId": "5039d1c4-0e19-43f7-e02d-06f890d9cac5"
   },
   "outputs": [
    {
     "name": "stdout",
     "output_type": "stream",
     "text": [
      "fingerprint generated: bouba_0011\n"
     ]
    },
    {
     "name": "stderr",
     "output_type": "stream",
     "text": [
      "/usr/local/lib/python3.7/dist-packages/ipykernel_launcher.py:12: RuntimeWarning: divide by zero encountered in log10\n",
      "  if sys.path[0] == '':\n"
     ]
    },
    {
     "name": "stdout",
     "output_type": "stream",
     "text": [
      "fingerprint generated: bouba_0012\n",
      "fingerprint generated: bouba_0013\n"
     ]
    },
    {
     "name": "stderr",
     "output_type": "stream",
     "text": [
      "/usr/local/lib/python3.7/dist-packages/ipykernel_launcher.py:12: RuntimeWarning: divide by zero encountered in log10\n",
      "  if sys.path[0] == '':\n"
     ]
    },
    {
     "name": "stdout",
     "output_type": "stream",
     "text": [
      "fingerprint generated: bouba_0014\n"
     ]
    },
    {
     "name": "stderr",
     "output_type": "stream",
     "text": [
      "/usr/local/lib/python3.7/dist-packages/ipykernel_launcher.py:12: RuntimeWarning: divide by zero encountered in log10\n",
      "  if sys.path[0] == '':\n"
     ]
    },
    {
     "name": "stdout",
     "output_type": "stream",
     "text": [
      "fingerprint generated: bouba_0015\n",
      "fingerprint generated: bouba_0016\n",
      "fingerprint generated: bouba_0017\n",
      "fingerprint generated: bouba_0018\n",
      "fingerprint generated: bouba_0019\n",
      "fingerprint generated: bouba_0020\n"
     ]
    }
   ],
   "source": [
    "f = open('bouba2.pckl', 'wb')\n",
    "F_bouba2_arr = []\n",
    "for i in range(11,21):\n",
    "    index = str(i).zfill(4)\n",
    "    bouba_file = \"bouba_\" + index + \".m4a\"\n",
    "    F_bouba = get_fingerprint(bouba_file, 1)\n",
    "    print(\"fingerprint generated: bouba_\" + index)\n",
    "    F_bouba2_arr.append(F_bouba)\n",
    "pickle.dump(F_bouba2_arr, f)\n",
    "f.close()"
   ]
  },
  {
   "cell_type": "code",
   "execution_count": null,
   "metadata": {
    "colab": {
     "base_uri": "https://localhost:8080/"
    },
    "id": "gdwFF2lut4uM",
    "outputId": "7fb1890d-7e10-4a9d-a494-35ce543d8e40"
   },
   "outputs": [
    {
     "name": "stdout",
     "output_type": "stream",
     "text": [
      "fingerprint generated: kiki_0021\n",
      "fingerprint generated: kiki_0022\n",
      "fingerprint generated: kiki_0023\n",
      "fingerprint generated: kiki_0024\n",
      "fingerprint generated: kiki_0025\n",
      "fingerprint generated: kiki_0026\n",
      "fingerprint generated: kiki_0027\n",
      "fingerprint generated: kiki_0028\n",
      "fingerprint generated: kiki_0029\n",
      "fingerprint generated: kiki_0030\n"
     ]
    }
   ],
   "source": [
    "f = open('kiki3.pckl', 'wb')\n",
    "F_kiki3_arr = []\n",
    "for i in range(21,31):\n",
    "    index = str(i).zfill(4)\n",
    "    kiki_file = \"kiki_\" + index + \".m4a\"\n",
    "    F_kiki = get_fingerprint(kiki_file, 1)\n",
    "    print(\"fingerprint generated: kiki_\" + index)\n",
    "    F_kiki3_arr.append(F_kiki)\n",
    "pickle.dump(F_kiki3_arr, f)\n",
    "f.close()"
   ]
  },
  {
   "cell_type": "code",
   "execution_count": null,
   "metadata": {
    "colab": {
     "base_uri": "https://localhost:8080/"
    },
    "id": "2-Aj0Ebb_faW",
    "outputId": "f16a032e-8719-461b-94e0-f2252bd8985a"
   },
   "outputs": [
    {
     "name": "stderr",
     "output_type": "stream",
     "text": [
      "/usr/local/lib/python3.7/dist-packages/ipykernel_launcher.py:12: RuntimeWarning: divide by zero encountered in log10\n",
      "  if sys.path[0] == '':\n"
     ]
    },
    {
     "name": "stdout",
     "output_type": "stream",
     "text": [
      "fingerprint generated: bouba_0021\n",
      "fingerprint generated: bouba_0022\n",
      "fingerprint generated: bouba_0023\n",
      "fingerprint generated: bouba_0024\n",
      "fingerprint generated: bouba_0025\n",
      "fingerprint generated: bouba_0026\n",
      "fingerprint generated: bouba_0027\n",
      "fingerprint generated: bouba_0028\n",
      "fingerprint generated: bouba_0029\n",
      "fingerprint generated: bouba_0030\n"
     ]
    }
   ],
   "source": [
    "f = open('bouba3.pckl', 'wb')\n",
    "F_bouba3_arr = []\n",
    "for i in range(21,31):\n",
    "    index = str(i).zfill(4)\n",
    "    bouba_file = \"bouba_\" + index + \".m4a\"\n",
    "    F_bouba = get_fingerprint(bouba_file, 1)\n",
    "    print(\"fingerprint generated: bouba_\" + index)\n",
    "    F_bouba3_arr.append(F_bouba)\n",
    "pickle.dump(F_bouba3_arr, f)\n",
    "f.close()"
   ]
  },
  {
   "cell_type": "code",
   "execution_count": null,
   "metadata": {
    "colab": {
     "base_uri": "https://localhost:8080/"
    },
    "id": "y2wy7QoSt7DY",
    "outputId": "3e274637-057d-4ea6-8ffe-9d367000a747"
   },
   "outputs": [
    {
     "name": "stdout",
     "output_type": "stream",
     "text": [
      "fingerprint generated: kiki_0031\n",
      "fingerprint generated: kiki_0032\n",
      "fingerprint generated: kiki_0033\n",
      "fingerprint generated: kiki_0034\n",
      "fingerprint generated: kiki_0035\n",
      "fingerprint generated: kiki_0036\n"
     ]
    },
    {
     "name": "stderr",
     "output_type": "stream",
     "text": [
      "/usr/local/lib/python3.7/dist-packages/ipykernel_launcher.py:12: RuntimeWarning: divide by zero encountered in log10\n",
      "  if sys.path[0] == '':\n"
     ]
    },
    {
     "name": "stdout",
     "output_type": "stream",
     "text": [
      "fingerprint generated: kiki_0037\n"
     ]
    },
    {
     "name": "stderr",
     "output_type": "stream",
     "text": [
      "/usr/local/lib/python3.7/dist-packages/ipykernel_launcher.py:12: RuntimeWarning: divide by zero encountered in log10\n",
      "  if sys.path[0] == '':\n"
     ]
    },
    {
     "name": "stdout",
     "output_type": "stream",
     "text": [
      "fingerprint generated: kiki_0038\n",
      "fingerprint generated: kiki_0039\n",
      "fingerprint generated: kiki_0040\n"
     ]
    }
   ],
   "source": [
    "f = open('kiki4.pckl', 'wb')\n",
    "F_kiki4_arr = []\n",
    "for i in range(31,41):\n",
    "    index = str(i).zfill(4)\n",
    "    kiki_file = \"kiki_\" + index + \".m4a\"\n",
    "    F_kiki = get_fingerprint(kiki_file, 1)\n",
    "    print(\"fingerprint generated: kiki_\" + index)\n",
    "    F_kiki4_arr.append(F_kiki)\n",
    "pickle.dump(F_kiki4_arr, f)\n",
    "f.close()"
   ]
  },
  {
   "cell_type": "code",
   "execution_count": null,
   "metadata": {
    "colab": {
     "base_uri": "https://localhost:8080/"
    },
    "id": "kSW1fwqP_faX",
    "outputId": "63f2e207-8b04-4c96-9221-9baf5dede472"
   },
   "outputs": [
    {
     "name": "stdout",
     "output_type": "stream",
     "text": [
      "fingerprint generated: bouba_0031\n"
     ]
    },
    {
     "name": "stderr",
     "output_type": "stream",
     "text": [
      "/usr/local/lib/python3.7/dist-packages/ipykernel_launcher.py:12: RuntimeWarning: divide by zero encountered in log10\n",
      "  if sys.path[0] == '':\n"
     ]
    },
    {
     "name": "stdout",
     "output_type": "stream",
     "text": [
      "fingerprint generated: bouba_0032\n",
      "fingerprint generated: bouba_0033\n",
      "fingerprint generated: bouba_0034\n",
      "fingerprint generated: bouba_0035\n",
      "fingerprint generated: bouba_0036\n",
      "fingerprint generated: bouba_0037\n",
      "fingerprint generated: bouba_0038\n",
      "fingerprint generated: bouba_0039\n",
      "fingerprint generated: bouba_0040\n"
     ]
    }
   ],
   "source": [
    "f = open('bouba4.pckl', 'wb')\n",
    "F_bouba4_arr = []\n",
    "for i in range(31,41):\n",
    "    index = str(i).zfill(4)\n",
    "    bouba_file = \"bouba_\" + index + \".m4a\"\n",
    "    F_bouba = get_fingerprint(bouba_file, 1)\n",
    "    print(\"fingerprint generated: bouba_\" + index)\n",
    "    F_bouba4_arr.append(F_bouba)\n",
    "pickle.dump(F_bouba4_arr, f)\n",
    "f.close()"
   ]
  },
  {
   "cell_type": "code",
   "execution_count": null,
   "metadata": {
    "colab": {
     "base_uri": "https://localhost:8080/"
    },
    "id": "V_-qqrGe8Wty",
    "outputId": "1f716a85-5307-4f74-96c3-d1f410100f59"
   },
   "outputs": [
    {
     "name": "stdout",
     "output_type": "stream",
     "text": [
      "fingerprint generated: kiki_0041\n",
      "fingerprint generated: kiki_0042\n",
      "fingerprint generated: kiki_0043\n",
      "fingerprint generated: kiki_0044\n",
      "fingerprint generated: kiki_0045\n",
      "fingerprint generated: kiki_0046\n",
      "fingerprint generated: kiki_0047\n",
      "fingerprint generated: kiki_0048\n",
      "fingerprint generated: kiki_0049\n",
      "fingerprint generated: kiki_0050\n"
     ]
    }
   ],
   "source": [
    "f = open('kiki5.pckl', 'wb')\n",
    "F_kiki5_arr = []\n",
    "for i in range(41,51):\n",
    "    index = str(i).zfill(4)\n",
    "    kiki_file = \"kiki_\" + index + \".m4a\"\n",
    "    F_kiki = get_fingerprint(kiki_file, 1)\n",
    "    print(\"fingerprint generated: kiki_\" + index)\n",
    "    F_kiki5_arr.append(F_kiki)\n",
    "pickle.dump(F_kiki5_arr, f)\n",
    "f.close()"
   ]
  },
  {
   "cell_type": "code",
   "execution_count": null,
   "metadata": {
    "colab": {
     "base_uri": "https://localhost:8080/"
    },
    "id": "oYZQZ_FW_faX",
    "outputId": "3416ca58-0b85-44b3-9d7f-9e7440924346"
   },
   "outputs": [
    {
     "name": "stdout",
     "output_type": "stream",
     "text": [
      "fingerprint generated: bouba_0041\n",
      "fingerprint generated: bouba_0042\n",
      "fingerprint generated: bouba_0043\n",
      "fingerprint generated: bouba_0044\n",
      "fingerprint generated: bouba_0045\n",
      "fingerprint generated: bouba_0046\n",
      "fingerprint generated: bouba_0047\n",
      "fingerprint generated: bouba_0048\n",
      "fingerprint generated: bouba_0049\n",
      "fingerprint generated: bouba_0050\n"
     ]
    }
   ],
   "source": [
    "f = open('bouba5.pckl', 'wb')\n",
    "F_bouba5_arr = []\n",
    "for i in range(41,51):\n",
    "    index = str(i).zfill(4)\n",
    "    bouba_file = \"bouba_\" + index + \".m4a\"\n",
    "    F_bouba = get_fingerprint(bouba_file, 1)\n",
    "    print(\"fingerprint generated: bouba_\" + index)\n",
    "    F_bouba5_arr.append(F_bouba)\n",
    "pickle.dump(F_bouba5_arr, f)\n",
    "f.close()"
   ]
  },
  {
   "cell_type": "code",
   "execution_count": null,
   "metadata": {
    "colab": {
     "base_uri": "https://localhost:8080/"
    },
    "id": "IV11HO-A8W7j",
    "outputId": "418931e6-37f6-4d1f-8253-34a2269fb23e"
   },
   "outputs": [
    {
     "name": "stdout",
     "output_type": "stream",
     "text": [
      "fingerprint generated: kiki_0051\n",
      "fingerprint generated: kiki_0052\n",
      "fingerprint generated: kiki_0053\n",
      "fingerprint generated: kiki_0054\n",
      "fingerprint generated: kiki_0055\n",
      "fingerprint generated: kiki_0056\n",
      "fingerprint generated: kiki_0057\n",
      "fingerprint generated: kiki_0058\n",
      "fingerprint generated: kiki_0059\n",
      "fingerprint generated: kiki_0060\n"
     ]
    }
   ],
   "source": [
    "f = open('kiki6.pckl', 'wb')\n",
    "F_kiki6_arr = []\n",
    "for i in range(51,61):\n",
    "    index = str(i).zfill(4)\n",
    "    kiki_file = \"kiki_\" + index + \".m4a\"\n",
    "    F_kiki = get_fingerprint(kiki_file, 1)\n",
    "    print(\"fingerprint generated: kiki_\" + index)\n",
    "    F_kiki6_arr.append(F_kiki)\n",
    "pickle.dump(F_kiki6_arr, f)\n",
    "f.close()"
   ]
  },
  {
   "cell_type": "code",
   "execution_count": null,
   "metadata": {
    "colab": {
     "base_uri": "https://localhost:8080/"
    },
    "id": "NgDFdSMp_faX",
    "outputId": "2ba33638-b0f4-427f-e6f2-ded470f70616"
   },
   "outputs": [
    {
     "name": "stdout",
     "output_type": "stream",
     "text": [
      "fingerprint generated: bouba_0051\n",
      "fingerprint generated: bouba_0052\n",
      "fingerprint generated: bouba_0053\n",
      "fingerprint generated: bouba_0054\n",
      "fingerprint generated: bouba_0055\n",
      "fingerprint generated: bouba_0056\n",
      "fingerprint generated: bouba_0057\n"
     ]
    },
    {
     "name": "stderr",
     "output_type": "stream",
     "text": [
      "/usr/local/lib/python3.7/dist-packages/ipykernel_launcher.py:12: RuntimeWarning: divide by zero encountered in log10\n",
      "  if sys.path[0] == '':\n"
     ]
    },
    {
     "name": "stdout",
     "output_type": "stream",
     "text": [
      "fingerprint generated: bouba_0058\n",
      "fingerprint generated: bouba_0059\n",
      "fingerprint generated: bouba_0060\n"
     ]
    }
   ],
   "source": [
    "f = open('bouba6.pckl', 'wb')\n",
    "F_bouba6_arr = []\n",
    "for i in range(51,61):\n",
    "    index = str(i).zfill(4)\n",
    "    bouba_file = \"bouba_\" + index + \".m4a\"\n",
    "    F_bouba = get_fingerprint(bouba_file, 1)\n",
    "    print(\"fingerprint generated: bouba_\" + index)\n",
    "    F_bouba6_arr.append(F_bouba)\n",
    "pickle.dump(F_bouba6_arr, f)\n",
    "f.close()"
   ]
  },
  {
   "cell_type": "code",
   "execution_count": null,
   "metadata": {
    "colab": {
     "base_uri": "https://localhost:8080/"
    },
    "id": "YHa-wyhn8XGb",
    "outputId": "cf75314e-65e8-408c-aa07-c487e4729204"
   },
   "outputs": [
    {
     "name": "stdout",
     "output_type": "stream",
     "text": [
      "fingerprint generated: kiki_0061\n",
      "fingerprint generated: kiki_0062\n",
      "fingerprint generated: kiki_0063\n",
      "fingerprint generated: kiki_0064\n",
      "fingerprint generated: kiki_0065\n"
     ]
    },
    {
     "name": "stderr",
     "output_type": "stream",
     "text": [
      "/usr/local/lib/python3.7/dist-packages/ipykernel_launcher.py:12: RuntimeWarning: divide by zero encountered in log10\n",
      "  if sys.path[0] == '':\n"
     ]
    },
    {
     "name": "stdout",
     "output_type": "stream",
     "text": [
      "fingerprint generated: kiki_0066\n",
      "fingerprint generated: kiki_0067\n",
      "fingerprint generated: kiki_0068\n",
      "fingerprint generated: kiki_0069\n",
      "fingerprint generated: kiki_0070\n"
     ]
    }
   ],
   "source": [
    "f = open('kiki7.pckl', 'wb')\n",
    "F_kiki7_arr = []\n",
    "for i in range(61,71):\n",
    "    index = str(i).zfill(4)\n",
    "    kiki_file = \"kiki_\" + index + \".m4a\"\n",
    "    F_kiki = get_fingerprint(kiki_file, 1)\n",
    "    print(\"fingerprint generated: kiki_\" + index)\n",
    "    F_kiki7_arr.append(F_kiki)\n",
    "pickle.dump(F_kiki7_arr, f)\n",
    "f.close()"
   ]
  },
  {
   "cell_type": "code",
   "execution_count": null,
   "metadata": {
    "colab": {
     "base_uri": "https://localhost:8080/"
    },
    "id": "FfHxWV-4_faY",
    "outputId": "da82852a-60b0-4550-e903-a308618c6fe1"
   },
   "outputs": [
    {
     "name": "stdout",
     "output_type": "stream",
     "text": [
      "fingerprint generated: bouba_0061\n",
      "fingerprint generated: bouba_0062\n"
     ]
    },
    {
     "name": "stderr",
     "output_type": "stream",
     "text": [
      "/usr/local/lib/python3.7/dist-packages/ipykernel_launcher.py:12: RuntimeWarning: divide by zero encountered in log10\n",
      "  if sys.path[0] == '':\n"
     ]
    },
    {
     "name": "stdout",
     "output_type": "stream",
     "text": [
      "fingerprint generated: bouba_0063\n",
      "fingerprint generated: bouba_0064\n",
      "fingerprint generated: bouba_0065\n",
      "fingerprint generated: bouba_0066\n",
      "fingerprint generated: bouba_0067\n",
      "fingerprint generated: bouba_0068\n",
      "fingerprint generated: bouba_0069\n",
      "fingerprint generated: bouba_0070\n"
     ]
    }
   ],
   "source": [
    "f = open('bouba7.pckl', 'wb')\n",
    "F_bouba7_arr = []\n",
    "for i in range(61,71):\n",
    "    index = str(i).zfill(4)\n",
    "    bouba_file = \"bouba_\" + index + \".m4a\"\n",
    "    F_bouba = get_fingerprint(bouba_file, 1)\n",
    "    print(\"fingerprint generated: bouba_\" + index)\n",
    "    F_bouba7_arr.append(F_bouba)\n",
    "pickle.dump(F_bouba7_arr, f)\n",
    "f.close()"
   ]
  },
  {
   "cell_type": "code",
   "execution_count": null,
   "metadata": {
    "colab": {
     "base_uri": "https://localhost:8080/"
    },
    "id": "USoM3YZd8mYT",
    "outputId": "94aa75f6-92ec-42c5-a134-bf04b7ac59b0"
   },
   "outputs": [
    {
     "name": "stdout",
     "output_type": "stream",
     "text": [
      "fingerprint generated: kiki_0071\n",
      "fingerprint generated: kiki_0072\n",
      "fingerprint generated: kiki_0073\n",
      "fingerprint generated: kiki_0074\n",
      "fingerprint generated: kiki_0075\n",
      "fingerprint generated: kiki_0076\n",
      "fingerprint generated: kiki_0077\n",
      "fingerprint generated: kiki_0078\n",
      "fingerprint generated: kiki_0079\n",
      "fingerprint generated: kiki_0080\n"
     ]
    }
   ],
   "source": [
    "f = open('kiki8.pckl', 'wb')\n",
    "F_kiki8_arr = []\n",
    "for i in range(71,81):\n",
    "    index = str(i).zfill(4)\n",
    "    kiki_file = \"kiki_\" + index + \".m4a\"\n",
    "    F_kiki = get_fingerprint(kiki_file, 1)\n",
    "    print(\"fingerprint generated: kiki_\" + index)\n",
    "    F_kiki8_arr.append(F_kiki)\n",
    "pickle.dump(F_kiki8_arr, f)\n",
    "f.close()"
   ]
  },
  {
   "cell_type": "code",
   "execution_count": null,
   "metadata": {
    "colab": {
     "base_uri": "https://localhost:8080/"
    },
    "id": "1pAP6SN2_faY",
    "outputId": "3bb59949-fd75-47b6-bb2d-7e3fa2ada023"
   },
   "outputs": [
    {
     "name": "stdout",
     "output_type": "stream",
     "text": [
      "fingerprint generated: bouba_0071\n",
      "fingerprint generated: bouba_0072\n",
      "fingerprint generated: bouba_0073\n"
     ]
    },
    {
     "name": "stderr",
     "output_type": "stream",
     "text": [
      "/usr/local/lib/python3.7/dist-packages/ipykernel_launcher.py:12: RuntimeWarning: divide by zero encountered in log10\n",
      "  if sys.path[0] == '':\n"
     ]
    },
    {
     "name": "stdout",
     "output_type": "stream",
     "text": [
      "fingerprint generated: bouba_0074\n"
     ]
    },
    {
     "name": "stderr",
     "output_type": "stream",
     "text": [
      "/usr/local/lib/python3.7/dist-packages/ipykernel_launcher.py:12: RuntimeWarning: divide by zero encountered in log10\n",
      "  if sys.path[0] == '':\n"
     ]
    },
    {
     "name": "stdout",
     "output_type": "stream",
     "text": [
      "fingerprint generated: bouba_0075\n",
      "fingerprint generated: bouba_0076\n",
      "fingerprint generated: bouba_0077\n",
      "fingerprint generated: bouba_0078\n",
      "fingerprint generated: bouba_0079\n",
      "fingerprint generated: bouba_0080\n"
     ]
    }
   ],
   "source": [
    "f = open('bouba8.pckl', 'wb')\n",
    "F_bouba8_arr = []\n",
    "for i in range(71,81):\n",
    "    index = str(i).zfill(4)\n",
    "    bouba_file = \"bouba_\" + index + \".m4a\"\n",
    "    F_bouba = get_fingerprint(bouba_file, 1)\n",
    "    print(\"fingerprint generated: bouba_\" + index)\n",
    "    F_bouba8_arr.append(F_bouba)\n",
    "pickle.dump(F_bouba8_arr, f)\n",
    "f.close()"
   ]
  },
  {
   "cell_type": "code",
   "execution_count": null,
   "metadata": {
    "colab": {
     "base_uri": "https://localhost:8080/"
    },
    "id": "EYYpnLgO8mfX",
    "outputId": "db328c5a-125a-45a1-da86-7da7e51f7fa1"
   },
   "outputs": [
    {
     "name": "stdout",
     "output_type": "stream",
     "text": [
      "fingerprint generated: kiki_0081\n",
      "fingerprint generated: kiki_0082\n",
      "fingerprint generated: kiki_0083\n",
      "fingerprint generated: kiki_0084\n",
      "fingerprint generated: kiki_0085\n",
      "fingerprint generated: kiki_0086\n",
      "fingerprint generated: kiki_0087\n",
      "fingerprint generated: kiki_0088\n",
      "fingerprint generated: kiki_0089\n",
      "fingerprint generated: kiki_0090\n"
     ]
    }
   ],
   "source": [
    "f = open('kiki9.pckl', 'wb')\n",
    "F_kiki9_arr = []\n",
    "for i in range(81,91):\n",
    "    index = str(i).zfill(4)\n",
    "    kiki_file = \"kiki_\" + index + \".m4a\"\n",
    "    F_kiki = get_fingerprint(kiki_file, 1)\n",
    "    print(\"fingerprint generated: kiki_\" + index)\n",
    "    F_kiki9_arr.append(F_kiki)\n",
    "pickle.dump(F_kiki9_arr, f)\n",
    "f.close()"
   ]
  },
  {
   "cell_type": "code",
   "execution_count": null,
   "metadata": {
    "colab": {
     "base_uri": "https://localhost:8080/"
    },
    "id": "RBklB6RH_faZ",
    "outputId": "9a7d9f85-8e1a-46af-b8bb-d4223da3872c"
   },
   "outputs": [
    {
     "name": "stdout",
     "output_type": "stream",
     "text": [
      "fingerprint generated: bouba_0081\n",
      "fingerprint generated: bouba_0082\n",
      "fingerprint generated: bouba_0083\n",
      "fingerprint generated: bouba_0084\n",
      "fingerprint generated: bouba_0085\n",
      "fingerprint generated: bouba_0086\n",
      "fingerprint generated: bouba_0087\n",
      "fingerprint generated: bouba_0088\n"
     ]
    },
    {
     "name": "stderr",
     "output_type": "stream",
     "text": [
      "/usr/local/lib/python3.7/dist-packages/ipykernel_launcher.py:12: RuntimeWarning: divide by zero encountered in log10\n",
      "  if sys.path[0] == '':\n"
     ]
    },
    {
     "name": "stdout",
     "output_type": "stream",
     "text": [
      "fingerprint generated: bouba_0089\n",
      "fingerprint generated: bouba_0090\n"
     ]
    }
   ],
   "source": [
    "f = open('bouba9.pckl', 'wb')\n",
    "F_bouba9_arr = []\n",
    "for i in range(81,91):\n",
    "    index = str(i).zfill(4)\n",
    "    bouba_file = \"bouba_\" + index + \".m4a\"\n",
    "    F_bouba = get_fingerprint(bouba_file, 1)\n",
    "    print(\"fingerprint generated: bouba_\" + index)\n",
    "    F_bouba9_arr.append(F_bouba)\n",
    "pickle.dump(F_bouba9_arr, f)\n",
    "f.close()"
   ]
  },
  {
   "cell_type": "code",
   "execution_count": null,
   "metadata": {
    "colab": {
     "base_uri": "https://localhost:8080/"
    },
    "id": "8Ah0nVQ38mlx",
    "outputId": "6cb00c21-8424-411c-a843-0377d25be7c1"
   },
   "outputs": [
    {
     "name": "stdout",
     "output_type": "stream",
     "text": [
      "fingerprint generated: kiki_0091\n"
     ]
    },
    {
     "name": "stderr",
     "output_type": "stream",
     "text": [
      "/usr/local/lib/python3.7/dist-packages/ipykernel_launcher.py:12: RuntimeWarning: divide by zero encountered in log10\n",
      "  if sys.path[0] == '':\n"
     ]
    },
    {
     "name": "stdout",
     "output_type": "stream",
     "text": [
      "fingerprint generated: kiki_0092\n",
      "fingerprint generated: kiki_0093\n",
      "fingerprint generated: kiki_0094\n",
      "fingerprint generated: kiki_0095\n",
      "fingerprint generated: kiki_0096\n",
      "fingerprint generated: kiki_0097\n",
      "fingerprint generated: kiki_0098\n",
      "fingerprint generated: kiki_0099\n",
      "fingerprint generated: kiki_0100\n"
     ]
    }
   ],
   "source": [
    "f = open('kiki10.pckl', 'wb')\n",
    "F_kiki10_arr = []\n",
    "for i in range(91,101):\n",
    "    index = str(i).zfill(4)\n",
    "    kiki_file = \"kiki_\" + index + \".m4a\"\n",
    "    F_kiki = get_fingerprint(kiki_file, 1)\n",
    "    print(\"fingerprint generated: kiki_\" + index)\n",
    "    F_kiki10_arr.append(F_kiki)\n",
    "pickle.dump(F_kiki10_arr, f)\n",
    "f.close()"
   ]
  },
  {
   "cell_type": "code",
   "execution_count": null,
   "metadata": {
    "colab": {
     "base_uri": "https://localhost:8080/"
    },
    "id": "s5_PeYe0_faZ",
    "outputId": "3547e990-9e17-4063-de8c-a6162dff4754"
   },
   "outputs": [
    {
     "name": "stderr",
     "output_type": "stream",
     "text": [
      "/usr/local/lib/python3.7/dist-packages/ipykernel_launcher.py:12: RuntimeWarning: divide by zero encountered in log10\n",
      "  if sys.path[0] == '':\n"
     ]
    },
    {
     "name": "stdout",
     "output_type": "stream",
     "text": [
      "fingerprint generated: bouba_0091\n",
      "fingerprint generated: bouba_0092\n",
      "fingerprint generated: bouba_0093\n",
      "fingerprint generated: bouba_0094\n"
     ]
    },
    {
     "name": "stderr",
     "output_type": "stream",
     "text": [
      "/usr/local/lib/python3.7/dist-packages/ipykernel_launcher.py:12: RuntimeWarning: divide by zero encountered in log10\n",
      "  if sys.path[0] == '':\n"
     ]
    },
    {
     "name": "stdout",
     "output_type": "stream",
     "text": [
      "fingerprint generated: bouba_0095\n",
      "fingerprint generated: bouba_0096\n",
      "fingerprint generated: bouba_0097\n"
     ]
    },
    {
     "name": "stderr",
     "output_type": "stream",
     "text": [
      "/usr/local/lib/python3.7/dist-packages/ipykernel_launcher.py:12: RuntimeWarning: divide by zero encountered in log10\n",
      "  if sys.path[0] == '':\n"
     ]
    },
    {
     "name": "stdout",
     "output_type": "stream",
     "text": [
      "fingerprint generated: bouba_0098\n",
      "fingerprint generated: bouba_0099\n"
     ]
    },
    {
     "name": "stderr",
     "output_type": "stream",
     "text": [
      "/usr/local/lib/python3.7/dist-packages/ipykernel_launcher.py:12: RuntimeWarning: divide by zero encountered in log10\n",
      "  if sys.path[0] == '':\n"
     ]
    },
    {
     "name": "stdout",
     "output_type": "stream",
     "text": [
      "fingerprint generated: bouba_0100\n"
     ]
    }
   ],
   "source": [
    "f = open('bouba10.pckl', 'wb')\n",
    "F_bouba10_arr = []\n",
    "for i in range(91,101):\n",
    "    index = str(i).zfill(4)\n",
    "    bouba_file = \"bouba_\" + index + \".m4a\"\n",
    "    F_bouba = get_fingerprint(bouba_file, 1)\n",
    "    print(\"fingerprint generated: bouba_\" + index)\n",
    "    F_bouba10_arr.append(F_bouba)\n",
    "pickle.dump(F_bouba10_arr, f)\n",
    "f.close()"
   ]
  },
  {
   "cell_type": "code",
   "execution_count": null,
   "metadata": {
    "colab": {
     "base_uri": "https://localhost:8080/"
    },
    "id": "xBTi5da582bM",
    "outputId": "5ec3c7bf-00c5-4d8c-c103-be0b0fd95e5f"
   },
   "outputs": [
    {
     "name": "stdout",
     "output_type": "stream",
     "text": [
      "fingerprint generated: kiki_0101\n",
      "fingerprint generated: kiki_0102\n"
     ]
    },
    {
     "name": "stderr",
     "output_type": "stream",
     "text": [
      "/usr/local/lib/python3.7/dist-packages/ipykernel_launcher.py:12: RuntimeWarning: divide by zero encountered in log10\n",
      "  if sys.path[0] == '':\n"
     ]
    },
    {
     "name": "stdout",
     "output_type": "stream",
     "text": [
      "fingerprint generated: kiki_0103\n",
      "fingerprint generated: kiki_0104\n",
      "fingerprint generated: kiki_0105\n",
      "fingerprint generated: kiki_0106\n",
      "fingerprint generated: kiki_0107\n",
      "fingerprint generated: kiki_0108\n",
      "fingerprint generated: kiki_0109\n",
      "fingerprint generated: kiki_0110\n"
     ]
    }
   ],
   "source": [
    "f = open('kiki11.pckl', 'wb')\n",
    "F_kiki11_arr = []\n",
    "for i in range(101,111):\n",
    "    index = str(i).zfill(4)\n",
    "    kiki_file = \"kiki_\" + index + \".m4a\"\n",
    "    F_kiki = get_fingerprint(kiki_file, 1)\n",
    "    print(\"fingerprint generated: kiki_\" + index)\n",
    "    F_kiki11_arr.append(F_kiki)\n",
    "pickle.dump(F_kiki11_arr, f)\n",
    "f.close()"
   ]
  },
  {
   "cell_type": "code",
   "execution_count": null,
   "metadata": {
    "colab": {
     "base_uri": "https://localhost:8080/"
    },
    "id": "F1unyQy0_faa",
    "outputId": "50c79059-0f0e-4036-c8e3-ce8e0a92d725"
   },
   "outputs": [
    {
     "name": "stdout",
     "output_type": "stream",
     "text": [
      "fingerprint generated: bouba_0101\n",
      "fingerprint generated: bouba_0102\n",
      "fingerprint generated: bouba_0103\n",
      "fingerprint generated: bouba_0104\n",
      "fingerprint generated: bouba_0105\n",
      "fingerprint generated: bouba_0106\n",
      "fingerprint generated: bouba_0107\n",
      "fingerprint generated: bouba_0108\n",
      "fingerprint generated: bouba_0109\n"
     ]
    },
    {
     "name": "stderr",
     "output_type": "stream",
     "text": [
      "/usr/local/lib/python3.7/dist-packages/ipykernel_launcher.py:12: RuntimeWarning: divide by zero encountered in log10\n",
      "  if sys.path[0] == '':\n"
     ]
    },
    {
     "name": "stdout",
     "output_type": "stream",
     "text": [
      "fingerprint generated: bouba_0110\n"
     ]
    }
   ],
   "source": [
    "f = open('bouba11.pckl', 'wb')\n",
    "F_bouba11_arr = []\n",
    "for i in range(101,111):\n",
    "    index = str(i).zfill(4)\n",
    "    bouba_file = \"bouba_\" + index + \".m4a\"\n",
    "    F_bouba = get_fingerprint(bouba_file, 1)\n",
    "    print(\"fingerprint generated: bouba_\" + index)\n",
    "    F_bouba11_arr.append(F_bouba)\n",
    "pickle.dump(F_bouba11_arr, f)\n",
    "f.close()"
   ]
  },
  {
   "cell_type": "code",
   "execution_count": null,
   "metadata": {
    "colab": {
     "base_uri": "https://localhost:8080/"
    },
    "id": "ifnjE8md82k7",
    "outputId": "9cfeddf6-9a0f-4311-c263-0103f63aea5b"
   },
   "outputs": [
    {
     "name": "stdout",
     "output_type": "stream",
     "text": [
      "fingerprint generated: kiki_0111\n",
      "fingerprint generated: kiki_0112\n",
      "fingerprint generated: kiki_0113\n",
      "fingerprint generated: kiki_0114\n",
      "fingerprint generated: kiki_0115\n",
      "fingerprint generated: kiki_0116\n",
      "fingerprint generated: kiki_0117\n"
     ]
    },
    {
     "name": "stderr",
     "output_type": "stream",
     "text": [
      "/usr/local/lib/python3.7/dist-packages/ipykernel_launcher.py:12: RuntimeWarning: divide by zero encountered in log10\n",
      "  if sys.path[0] == '':\n"
     ]
    },
    {
     "name": "stdout",
     "output_type": "stream",
     "text": [
      "fingerprint generated: kiki_0118\n",
      "fingerprint generated: kiki_0119\n",
      "fingerprint generated: kiki_0120\n"
     ]
    }
   ],
   "source": [
    "f = open('kiki12.pckl', 'wb')\n",
    "F_kiki12_arr = []\n",
    "for i in range(111,121):\n",
    "    index = str(i).zfill(4)\n",
    "    kiki_file = \"kiki_\" + index + \".m4a\"\n",
    "    F_kiki = get_fingerprint(kiki_file, 1)\n",
    "    print(\"fingerprint generated: kiki_\" + index)\n",
    "    F_kiki12_arr.append(F_kiki)\n",
    "pickle.dump(F_kiki12_arr, f)\n",
    "f.close()"
   ]
  },
  {
   "cell_type": "code",
   "execution_count": null,
   "metadata": {
    "colab": {
     "base_uri": "https://localhost:8080/"
    },
    "id": "YpXmPhud_faa",
    "outputId": "f7844d18-8e65-4723-e1cc-f62efd89f41e"
   },
   "outputs": [
    {
     "name": "stdout",
     "output_type": "stream",
     "text": [
      "fingerprint generated: bouba_0111\n"
     ]
    },
    {
     "name": "stderr",
     "output_type": "stream",
     "text": [
      "/usr/local/lib/python3.7/dist-packages/ipykernel_launcher.py:12: RuntimeWarning: divide by zero encountered in log10\n",
      "  if sys.path[0] == '':\n"
     ]
    },
    {
     "name": "stdout",
     "output_type": "stream",
     "text": [
      "fingerprint generated: bouba_0112\n",
      "fingerprint generated: bouba_0113\n",
      "fingerprint generated: bouba_0114\n",
      "fingerprint generated: bouba_0115\n",
      "fingerprint generated: bouba_0116\n",
      "fingerprint generated: bouba_0117\n",
      "fingerprint generated: bouba_0118\n",
      "fingerprint generated: bouba_0119\n",
      "fingerprint generated: bouba_0120\n"
     ]
    }
   ],
   "source": [
    "f = open('bouba12.pckl', 'wb')\n",
    "F_bouba12_arr = []\n",
    "for i in range(111,121):\n",
    "    index = str(i).zfill(4)\n",
    "    bouba_file = \"bouba_\" + index + \".m4a\"\n",
    "    F_bouba = get_fingerprint(bouba_file, 1)\n",
    "    print(\"fingerprint generated: bouba_\" + index)\n",
    "    F_bouba12_arr.append(F_bouba)\n",
    "pickle.dump(F_bouba12_arr, f)\n",
    "f.close()"
   ]
  },
  {
   "cell_type": "code",
   "execution_count": null,
   "metadata": {
    "colab": {
     "base_uri": "https://localhost:8080/"
    },
    "id": "qPW8PXf482wM",
    "outputId": "4c84c967-a599-4b46-978e-43eee230712a"
   },
   "outputs": [
    {
     "name": "stdout",
     "output_type": "stream",
     "text": [
      "fingerprint generated: kiki_0121\n"
     ]
    },
    {
     "name": "stderr",
     "output_type": "stream",
     "text": [
      "/usr/local/lib/python3.7/dist-packages/ipykernel_launcher.py:12: RuntimeWarning: divide by zero encountered in log10\n",
      "  if sys.path[0] == '':\n"
     ]
    },
    {
     "name": "stdout",
     "output_type": "stream",
     "text": [
      "fingerprint generated: kiki_0122\n",
      "fingerprint generated: kiki_0123\n",
      "fingerprint generated: kiki_0124\n",
      "fingerprint generated: kiki_0125\n",
      "fingerprint generated: kiki_0126\n",
      "fingerprint generated: kiki_0127\n"
     ]
    },
    {
     "name": "stderr",
     "output_type": "stream",
     "text": [
      "/usr/local/lib/python3.7/dist-packages/ipykernel_launcher.py:12: RuntimeWarning: divide by zero encountered in log10\n",
      "  if sys.path[0] == '':\n"
     ]
    },
    {
     "name": "stdout",
     "output_type": "stream",
     "text": [
      "fingerprint generated: kiki_0128\n",
      "fingerprint generated: kiki_0129\n",
      "fingerprint generated: kiki_0130\n"
     ]
    }
   ],
   "source": [
    "f = open('kiki13.pckl', 'wb')\n",
    "F_kiki13_arr = []\n",
    "for i in range(121,131):\n",
    "    index = str(i).zfill(4)\n",
    "    kiki_file = \"kiki_\" + index + \".m4a\"\n",
    "    F_kiki = get_fingerprint(kiki_file, 1)\n",
    "    print(\"fingerprint generated: kiki_\" + index)\n",
    "    F_kiki13_arr.append(F_kiki)\n",
    "pickle.dump(F_kiki13_arr, f)\n",
    "f.close()"
   ]
  },
  {
   "cell_type": "code",
   "execution_count": null,
   "metadata": {
    "colab": {
     "base_uri": "https://localhost:8080/"
    },
    "id": "nEjURFtw_fab",
    "outputId": "66c640aa-9c66-4571-f591-2acd4756fd3f"
   },
   "outputs": [
    {
     "name": "stdout",
     "output_type": "stream",
     "text": [
      "fingerprint generated: bouba_0121\n",
      "fingerprint generated: bouba_0122\n"
     ]
    },
    {
     "name": "stderr",
     "output_type": "stream",
     "text": [
      "/usr/local/lib/python3.7/dist-packages/ipykernel_launcher.py:12: RuntimeWarning: divide by zero encountered in log10\n",
      "  if sys.path[0] == '':\n"
     ]
    },
    {
     "name": "stdout",
     "output_type": "stream",
     "text": [
      "fingerprint generated: bouba_0123\n"
     ]
    },
    {
     "name": "stderr",
     "output_type": "stream",
     "text": [
      "/usr/local/lib/python3.7/dist-packages/ipykernel_launcher.py:12: RuntimeWarning: divide by zero encountered in log10\n",
      "  if sys.path[0] == '':\n"
     ]
    },
    {
     "name": "stdout",
     "output_type": "stream",
     "text": [
      "fingerprint generated: bouba_0124\n",
      "fingerprint generated: bouba_0125\n",
      "fingerprint generated: bouba_0126\n",
      "fingerprint generated: bouba_0127\n"
     ]
    },
    {
     "name": "stderr",
     "output_type": "stream",
     "text": [
      "/usr/local/lib/python3.7/dist-packages/ipykernel_launcher.py:12: RuntimeWarning: divide by zero encountered in log10\n",
      "  if sys.path[0] == '':\n"
     ]
    },
    {
     "name": "stdout",
     "output_type": "stream",
     "text": [
      "fingerprint generated: bouba_0128\n",
      "fingerprint generated: bouba_0129\n"
     ]
    },
    {
     "name": "stderr",
     "output_type": "stream",
     "text": [
      "/usr/local/lib/python3.7/dist-packages/ipykernel_launcher.py:12: RuntimeWarning: divide by zero encountered in log10\n",
      "  if sys.path[0] == '':\n"
     ]
    },
    {
     "name": "stdout",
     "output_type": "stream",
     "text": [
      "fingerprint generated: bouba_0130\n"
     ]
    }
   ],
   "source": [
    "f = open('bouba13.pckl', 'wb')\n",
    "F_bouba13_arr = []\n",
    "for i in range(121,131):\n",
    "    index = str(i).zfill(4)\n",
    "    bouba_file = \"bouba_\" + index + \".m4a\"\n",
    "    F_bouba = get_fingerprint(bouba_file, 1)\n",
    "    print(\"fingerprint generated: bouba_\" + index)\n",
    "    F_bouba13_arr.append(F_bouba)\n",
    "pickle.dump(F_bouba13_arr, f)\n",
    "f.close()"
   ]
  },
  {
   "cell_type": "code",
   "execution_count": null,
   "metadata": {
    "colab": {
     "base_uri": "https://localhost:8080/"
    },
    "id": "3cFmVfWl824y",
    "outputId": "a8ae84e2-5ff1-43e6-e75a-ccf620bf9f30"
   },
   "outputs": [
    {
     "name": "stdout",
     "output_type": "stream",
     "text": [
      "fingerprint generated: kiki_0131\n",
      "fingerprint generated: kiki_0132\n",
      "fingerprint generated: kiki_0133\n",
      "fingerprint generated: kiki_0134\n",
      "fingerprint generated: kiki_0135\n",
      "fingerprint generated: kiki_0136\n",
      "fingerprint generated: kiki_0137\n",
      "fingerprint generated: kiki_0138\n",
      "fingerprint generated: kiki_0139\n",
      "fingerprint generated: kiki_0140\n"
     ]
    }
   ],
   "source": [
    "f = open('kiki14.pckl', 'wb')\n",
    "F_kiki14_arr = []\n",
    "for i in range(131,141):\n",
    "    index = str(i).zfill(4)\n",
    "    kiki_file = \"kiki_\" + index + \".m4a\"\n",
    "    F_kiki = get_fingerprint(kiki_file, 1)\n",
    "    print(\"fingerprint generated: kiki_\" + index)\n",
    "    F_kiki14_arr.append(F_kiki)\n",
    "pickle.dump(F_kiki14_arr, f)\n",
    "f.close()"
   ]
  },
  {
   "cell_type": "code",
   "execution_count": null,
   "metadata": {
    "colab": {
     "base_uri": "https://localhost:8080/"
    },
    "id": "q-zcJu7e_fab",
    "outputId": "220910e9-ffc7-4302-9577-b0b8080f118e"
   },
   "outputs": [
    {
     "name": "stdout",
     "output_type": "stream",
     "text": [
      "fingerprint generated: bouba_0131\n"
     ]
    },
    {
     "name": "stderr",
     "output_type": "stream",
     "text": [
      "/usr/local/lib/python3.7/dist-packages/ipykernel_launcher.py:12: RuntimeWarning: divide by zero encountered in log10\n",
      "  if sys.path[0] == '':\n"
     ]
    },
    {
     "name": "stdout",
     "output_type": "stream",
     "text": [
      "fingerprint generated: bouba_0132\n",
      "fingerprint generated: bouba_0133\n",
      "fingerprint generated: bouba_0134\n",
      "fingerprint generated: bouba_0135\n",
      "fingerprint generated: bouba_0136\n"
     ]
    },
    {
     "name": "stderr",
     "output_type": "stream",
     "text": [
      "/usr/local/lib/python3.7/dist-packages/ipykernel_launcher.py:12: RuntimeWarning: divide by zero encountered in log10\n",
      "  if sys.path[0] == '':\n"
     ]
    },
    {
     "name": "stdout",
     "output_type": "stream",
     "text": [
      "fingerprint generated: bouba_0137\n",
      "fingerprint generated: bouba_0138\n",
      "fingerprint generated: bouba_0139\n",
      "fingerprint generated: bouba_0140\n"
     ]
    }
   ],
   "source": [
    "f = open('bouba14.pckl', 'wb')\n",
    "F_bouba14_arr = []\n",
    "for i in range(131,141):\n",
    "    index = str(i).zfill(4)\n",
    "    bouba_file = \"bouba_\" + index + \".m4a\"\n",
    "    F_bouba = get_fingerprint(bouba_file, 1)\n",
    "    print(\"fingerprint generated: bouba_\" + index)\n",
    "    F_bouba14_arr.append(F_bouba)\n",
    "pickle.dump(F_bouba14_arr, f)\n",
    "f.close()"
   ]
  },
  {
   "cell_type": "code",
   "execution_count": null,
   "metadata": {
    "colab": {
     "base_uri": "https://localhost:8080/"
    },
    "id": "l8RZuaRk83BB",
    "outputId": "a6d7e3d5-fd88-455b-e2cf-2ef5ebbb13ff"
   },
   "outputs": [
    {
     "name": "stdout",
     "output_type": "stream",
     "text": [
      "fingerprint generated: kiki_0141\n",
      "fingerprint generated: kiki_0142\n",
      "fingerprint generated: kiki_0143\n",
      "fingerprint generated: kiki_0144\n"
     ]
    },
    {
     "name": "stderr",
     "output_type": "stream",
     "text": [
      "/usr/local/lib/python3.7/dist-packages/ipykernel_launcher.py:12: RuntimeWarning: divide by zero encountered in log10\n",
      "  if sys.path[0] == '':\n"
     ]
    },
    {
     "name": "stdout",
     "output_type": "stream",
     "text": [
      "fingerprint generated: kiki_0145\n",
      "fingerprint generated: kiki_0146\n",
      "fingerprint generated: kiki_0147\n",
      "fingerprint generated: kiki_0148\n",
      "fingerprint generated: kiki_0149\n",
      "fingerprint generated: kiki_0150\n"
     ]
    }
   ],
   "source": [
    "f = open('kiki15.pckl', 'wb')\n",
    "F_kiki15_arr = []\n",
    "for i in range(141,151):\n",
    "    index = str(i).zfill(4)\n",
    "    kiki_file = \"kiki_\" + index + \".m4a\"\n",
    "    F_kiki = get_fingerprint(kiki_file, 1)\n",
    "    print(\"fingerprint generated: kiki_\" + index)\n",
    "    F_kiki15_arr.append(F_kiki)\n",
    "pickle.dump(F_kiki15_arr, f)\n",
    "f.close()"
   ]
  },
  {
   "cell_type": "code",
   "execution_count": null,
   "metadata": {
    "colab": {
     "base_uri": "https://localhost:8080/"
    },
    "id": "udU9u0K6_fab",
    "outputId": "81101357-c55a-42ac-fe0c-ca2feed17a03"
   },
   "outputs": [
    {
     "name": "stderr",
     "output_type": "stream",
     "text": [
      "/usr/local/lib/python3.7/dist-packages/ipykernel_launcher.py:12: RuntimeWarning: divide by zero encountered in log10\n",
      "  if sys.path[0] == '':\n"
     ]
    },
    {
     "name": "stdout",
     "output_type": "stream",
     "text": [
      "fingerprint generated: bouba_0141\n",
      "fingerprint generated: bouba_0142\n",
      "fingerprint generated: bouba_0143\n"
     ]
    },
    {
     "name": "stderr",
     "output_type": "stream",
     "text": [
      "/usr/local/lib/python3.7/dist-packages/ipykernel_launcher.py:12: RuntimeWarning: divide by zero encountered in log10\n",
      "  if sys.path[0] == '':\n"
     ]
    },
    {
     "name": "stdout",
     "output_type": "stream",
     "text": [
      "fingerprint generated: bouba_0144\n",
      "fingerprint generated: bouba_0145\n",
      "fingerprint generated: bouba_0146\n"
     ]
    },
    {
     "name": "stderr",
     "output_type": "stream",
     "text": [
      "/usr/local/lib/python3.7/dist-packages/ipykernel_launcher.py:12: RuntimeWarning: divide by zero encountered in log10\n",
      "  if sys.path[0] == '':\n"
     ]
    },
    {
     "name": "stdout",
     "output_type": "stream",
     "text": [
      "fingerprint generated: bouba_0147\n",
      "fingerprint generated: bouba_0148\n",
      "fingerprint generated: bouba_0149\n",
      "fingerprint generated: bouba_0150\n"
     ]
    }
   ],
   "source": [
    "f = open('bouba15.pckl', 'wb')\n",
    "F_bouba15_arr = []\n",
    "for i in range(141,151):\n",
    "    index = str(i).zfill(4)\n",
    "    bouba_file = \"bouba_\" + index + \".m4a\"\n",
    "    F_bouba = get_fingerprint(bouba_file, 1)\n",
    "    print(\"fingerprint generated: bouba_\" + index)\n",
    "    F_bouba15_arr.append(F_bouba)\n",
    "pickle.dump(F_bouba15_arr, f)\n",
    "f.close()"
   ]
  },
  {
   "cell_type": "code",
   "execution_count": null,
   "metadata": {
    "colab": {
     "base_uri": "https://localhost:8080/"
    },
    "id": "lsVpiPUi83JP",
    "outputId": "26064ade-c4cd-4f1c-806c-bf36ed1b9a69"
   },
   "outputs": [
    {
     "name": "stdout",
     "output_type": "stream",
     "text": [
      "fingerprint generated: kiki_0151\n",
      "fingerprint generated: kiki_0152\n",
      "fingerprint generated: kiki_0153\n",
      "fingerprint generated: kiki_0154\n",
      "fingerprint generated: kiki_0155\n",
      "fingerprint generated: kiki_0156\n",
      "fingerprint generated: kiki_0157\n",
      "fingerprint generated: kiki_0158\n",
      "fingerprint generated: kiki_0159\n",
      "fingerprint generated: kiki_0160\n"
     ]
    }
   ],
   "source": [
    "f = open('kiki16.pckl', 'wb')\n",
    "F_kiki16_arr = []\n",
    "for i in range(151,161):\n",
    "    index = str(i).zfill(4)\n",
    "    kiki_file = \"kiki_\" + index + \".m4a\"\n",
    "    F_kiki = get_fingerprint(kiki_file, 1)\n",
    "    print(\"fingerprint generated: kiki_\" + index)\n",
    "    F_kiki16_arr.append(F_kiki)\n",
    "pickle.dump(F_kiki16_arr, f)\n",
    "f.close()"
   ]
  },
  {
   "cell_type": "code",
   "execution_count": null,
   "metadata": {
    "colab": {
     "base_uri": "https://localhost:8080/"
    },
    "id": "4zLBArf5_fac",
    "outputId": "06dcd54f-ec1c-4caf-e6a9-6e9196fc0766"
   },
   "outputs": [
    {
     "name": "stdout",
     "output_type": "stream",
     "text": [
      "fingerprint generated: bouba_0151\n"
     ]
    },
    {
     "name": "stderr",
     "output_type": "stream",
     "text": [
      "/usr/local/lib/python3.7/dist-packages/ipykernel_launcher.py:12: RuntimeWarning: divide by zero encountered in log10\n",
      "  if sys.path[0] == '':\n"
     ]
    },
    {
     "name": "stdout",
     "output_type": "stream",
     "text": [
      "fingerprint generated: bouba_0152\n"
     ]
    },
    {
     "name": "stderr",
     "output_type": "stream",
     "text": [
      "/usr/local/lib/python3.7/dist-packages/ipykernel_launcher.py:12: RuntimeWarning: divide by zero encountered in log10\n",
      "  if sys.path[0] == '':\n"
     ]
    },
    {
     "name": "stdout",
     "output_type": "stream",
     "text": [
      "fingerprint generated: bouba_0153\n",
      "fingerprint generated: bouba_0154\n",
      "fingerprint generated: bouba_0155\n",
      "fingerprint generated: bouba_0156\n",
      "fingerprint generated: bouba_0157\n",
      "fingerprint generated: bouba_0158\n",
      "fingerprint generated: bouba_0159\n",
      "fingerprint generated: bouba_0160\n"
     ]
    }
   ],
   "source": [
    "f = open('bouba16.pckl', 'wb')\n",
    "F_bouba16_arr = []\n",
    "for i in range(151,161):\n",
    "    index = str(i).zfill(4)\n",
    "    bouba_file = \"bouba_\" + index + \".m4a\"\n",
    "    F_bouba = get_fingerprint(bouba_file, 1)\n",
    "    print(\"fingerprint generated: bouba_\" + index)\n",
    "    F_bouba16_arr.append(F_bouba)\n",
    "pickle.dump(F_bouba16_arr, f)\n",
    "f.close()"
   ]
  },
  {
   "cell_type": "code",
   "execution_count": null,
   "metadata": {
    "colab": {
     "base_uri": "https://localhost:8080/"
    },
    "id": "mxTXiQeR83Qd",
    "outputId": "955c2013-4a0e-486c-c4e1-96c3c7d86829"
   },
   "outputs": [
    {
     "name": "stdout",
     "output_type": "stream",
     "text": [
      "fingerprint generated: kiki_0161\n",
      "fingerprint generated: kiki_0162\n",
      "fingerprint generated: kiki_0163\n",
      "fingerprint generated: kiki_0164\n",
      "fingerprint generated: kiki_0165\n"
     ]
    },
    {
     "name": "stderr",
     "output_type": "stream",
     "text": [
      "/usr/local/lib/python3.7/dist-packages/ipykernel_launcher.py:12: RuntimeWarning: divide by zero encountered in log10\n",
      "  if sys.path[0] == '':\n"
     ]
    },
    {
     "name": "stdout",
     "output_type": "stream",
     "text": [
      "fingerprint generated: kiki_0166\n",
      "fingerprint generated: kiki_0167\n",
      "fingerprint generated: kiki_0168\n",
      "fingerprint generated: kiki_0169\n",
      "fingerprint generated: kiki_0170\n"
     ]
    }
   ],
   "source": [
    "f = open('kiki17.pckl', 'wb')\n",
    "F_kiki17_arr = []\n",
    "for i in range(161,171):\n",
    "    index = str(i).zfill(4)\n",
    "    kiki_file = \"kiki_\" + index + \".m4a\"\n",
    "    F_kiki = get_fingerprint(kiki_file, 1)\n",
    "    print(\"fingerprint generated: kiki_\" + index)\n",
    "    F_kiki17_arr.append(F_kiki)\n",
    "pickle.dump(F_kiki17_arr, f)\n",
    "f.close()"
   ]
  },
  {
   "cell_type": "code",
   "execution_count": null,
   "metadata": {
    "colab": {
     "base_uri": "https://localhost:8080/"
    },
    "id": "wuDTM0Xr_fac",
    "outputId": "88f5835d-f979-4b98-d460-01c547780890"
   },
   "outputs": [
    {
     "name": "stdout",
     "output_type": "stream",
     "text": [
      "fingerprint generated: bouba_0161\n",
      "fingerprint generated: bouba_0162\n",
      "fingerprint generated: bouba_0163\n",
      "fingerprint generated: bouba_0164\n",
      "fingerprint generated: bouba_0165\n",
      "fingerprint generated: bouba_0166\n",
      "fingerprint generated: bouba_0167\n",
      "fingerprint generated: bouba_0168\n",
      "fingerprint generated: bouba_0169\n",
      "fingerprint generated: bouba_0170\n"
     ]
    }
   ],
   "source": [
    "f = open('bouba17.pckl', 'wb')\n",
    "F_bouba17_arr = []\n",
    "for i in range(161,171):\n",
    "    index = str(i).zfill(4)\n",
    "    bouba_file = \"bouba_\" + index + \".m4a\"\n",
    "    F_bouba = get_fingerprint(bouba_file, 1)\n",
    "    print(\"fingerprint generated: bouba_\" + index)\n",
    "    F_bouba17_arr.append(F_bouba)\n",
    "pickle.dump(F_bouba17_arr, f)\n",
    "f.close()"
   ]
  },
  {
   "cell_type": "code",
   "execution_count": null,
   "metadata": {
    "colab": {
     "base_uri": "https://localhost:8080/"
    },
    "id": "AGBekR8r83Xt",
    "outputId": "95c863f8-cca5-4cf8-cf4e-efe96ae7656a"
   },
   "outputs": [
    {
     "name": "stdout",
     "output_type": "stream",
     "text": [
      "fingerprint generated: kiki_0171\n",
      "fingerprint generated: kiki_0172\n",
      "fingerprint generated: kiki_0173\n",
      "fingerprint generated: kiki_0174\n",
      "fingerprint generated: kiki_0175\n",
      "fingerprint generated: kiki_0176\n",
      "fingerprint generated: kiki_0177\n",
      "fingerprint generated: kiki_0178\n",
      "fingerprint generated: kiki_0179\n",
      "fingerprint generated: kiki_0180\n"
     ]
    }
   ],
   "source": [
    "f = open('kiki18.pckl', 'wb')\n",
    "F_kiki18_arr = []\n",
    "for i in range(171,181):\n",
    "    index = str(i).zfill(4)\n",
    "    kiki_file = \"kiki_\" + index + \".m4a\"\n",
    "    F_kiki = get_fingerprint(kiki_file, 1)\n",
    "    print(\"fingerprint generated: kiki_\" + index)\n",
    "    F_kiki18_arr.append(F_kiki)\n",
    "pickle.dump(F_kiki18_arr, f)\n",
    "f.close()"
   ]
  },
  {
   "cell_type": "code",
   "execution_count": null,
   "metadata": {
    "colab": {
     "base_uri": "https://localhost:8080/"
    },
    "id": "x9XHyE4g_fac",
    "outputId": "b0b2f049-af8d-41bf-c479-df3ba0a305b1"
   },
   "outputs": [
    {
     "name": "stdout",
     "output_type": "stream",
     "text": [
      "fingerprint generated: bouba_0171\n"
     ]
    },
    {
     "name": "stderr",
     "output_type": "stream",
     "text": [
      "/usr/local/lib/python3.7/dist-packages/ipykernel_launcher.py:12: RuntimeWarning: divide by zero encountered in log10\n",
      "  if sys.path[0] == '':\n"
     ]
    },
    {
     "name": "stdout",
     "output_type": "stream",
     "text": [
      "fingerprint generated: bouba_0172\n"
     ]
    },
    {
     "name": "stderr",
     "output_type": "stream",
     "text": [
      "/usr/local/lib/python3.7/dist-packages/ipykernel_launcher.py:12: RuntimeWarning: divide by zero encountered in log10\n",
      "  if sys.path[0] == '':\n"
     ]
    },
    {
     "name": "stdout",
     "output_type": "stream",
     "text": [
      "fingerprint generated: bouba_0173\n",
      "fingerprint generated: bouba_0174\n",
      "fingerprint generated: bouba_0175\n",
      "fingerprint generated: bouba_0176\n",
      "fingerprint generated: bouba_0177\n"
     ]
    },
    {
     "name": "stderr",
     "output_type": "stream",
     "text": [
      "/usr/local/lib/python3.7/dist-packages/ipykernel_launcher.py:12: RuntimeWarning: divide by zero encountered in log10\n",
      "  if sys.path[0] == '':\n"
     ]
    },
    {
     "name": "stdout",
     "output_type": "stream",
     "text": [
      "fingerprint generated: bouba_0178\n",
      "fingerprint generated: bouba_0179\n",
      "fingerprint generated: bouba_0180\n"
     ]
    }
   ],
   "source": [
    "f = open('bouba18.pckl', 'wb')\n",
    "F_bouba18_arr = []\n",
    "for i in range(171,181):\n",
    "    index = str(i).zfill(4)\n",
    "    bouba_file = \"bouba_\" + index + \".m4a\"\n",
    "    F_bouba = get_fingerprint(bouba_file, 1)\n",
    "    print(\"fingerprint generated: bouba_\" + index)\n",
    "    F_bouba18_arr.append(F_bouba)\n",
    "pickle.dump(F_bouba18_arr, f)\n",
    "f.close()"
   ]
  },
  {
   "cell_type": "code",
   "execution_count": null,
   "metadata": {
    "colab": {
     "base_uri": "https://localhost:8080/"
    },
    "id": "YtTY3hCa83fQ",
    "outputId": "2fd0dc67-d4dd-4d77-ad3f-f2766ca5fe85"
   },
   "outputs": [
    {
     "name": "stdout",
     "output_type": "stream",
     "text": [
      "fingerprint generated: kiki_0181\n",
      "fingerprint generated: kiki_0182\n",
      "fingerprint generated: kiki_0183\n",
      "fingerprint generated: kiki_0184\n",
      "fingerprint generated: kiki_0185\n"
     ]
    },
    {
     "name": "stderr",
     "output_type": "stream",
     "text": [
      "/usr/local/lib/python3.7/dist-packages/ipykernel_launcher.py:12: RuntimeWarning: divide by zero encountered in log10\n",
      "  if sys.path[0] == '':\n"
     ]
    },
    {
     "name": "stdout",
     "output_type": "stream",
     "text": [
      "fingerprint generated: kiki_0186\n",
      "fingerprint generated: kiki_0187\n",
      "fingerprint generated: kiki_0188\n",
      "fingerprint generated: kiki_0189\n",
      "fingerprint generated: kiki_0190\n"
     ]
    }
   ],
   "source": [
    "f = open('kiki19.pckl', 'wb')\n",
    "F_kiki19_arr = []\n",
    "for i in range(181,191):\n",
    "    index = str(i).zfill(4)\n",
    "    kiki_file = \"kiki_\" + index + \".m4a\"\n",
    "    F_kiki = get_fingerprint(kiki_file, 1)\n",
    "    print(\"fingerprint generated: kiki_\" + index)\n",
    "    F_kiki19_arr.append(F_kiki)\n",
    "pickle.dump(F_kiki19_arr, f)\n",
    "f.close()"
   ]
  },
  {
   "cell_type": "code",
   "execution_count": null,
   "metadata": {
    "colab": {
     "base_uri": "https://localhost:8080/"
    },
    "id": "VTyjK7Sj_fad",
    "outputId": "21fcd0a6-bbf6-4b52-9cfe-3323bf159d8a"
   },
   "outputs": [
    {
     "name": "stdout",
     "output_type": "stream",
     "text": [
      "fingerprint generated: bouba_0181\n",
      "fingerprint generated: bouba_0182\n",
      "fingerprint generated: bouba_0183\n",
      "fingerprint generated: bouba_0184\n",
      "fingerprint generated: bouba_0185\n",
      "fingerprint generated: bouba_0186\n",
      "fingerprint generated: bouba_0187\n",
      "fingerprint generated: bouba_0188\n",
      "fingerprint generated: bouba_0189\n",
      "fingerprint generated: bouba_0190\n"
     ]
    }
   ],
   "source": [
    "f = open('bouba19.pckl', 'wb')\n",
    "F_bouba19_arr = []\n",
    "for i in range(181,191):\n",
    "    index = str(i).zfill(4)\n",
    "    bouba_file = \"bouba_\" + index + \".m4a\"\n",
    "    F_bouba = get_fingerprint(bouba_file, 1)\n",
    "    print(\"fingerprint generated: bouba_\" + index)\n",
    "    F_bouba19_arr.append(F_bouba)\n",
    "pickle.dump(F_bouba19_arr, f)\n",
    "f.close()"
   ]
  },
  {
   "cell_type": "code",
   "execution_count": null,
   "metadata": {
    "colab": {
     "base_uri": "https://localhost:8080/"
    },
    "id": "U1SL2CLY83l0",
    "outputId": "cf413f1d-d127-4671-a09b-ff91cd4043db"
   },
   "outputs": [
    {
     "name": "stdout",
     "output_type": "stream",
     "text": [
      "fingerprint generated: kiki_0191\n",
      "fingerprint generated: kiki_0192\n",
      "fingerprint generated: kiki_0193\n",
      "fingerprint generated: kiki_0194\n",
      "fingerprint generated: kiki_0195\n"
     ]
    },
    {
     "name": "stderr",
     "output_type": "stream",
     "text": [
      "/usr/local/lib/python3.7/dist-packages/ipykernel_launcher.py:12: RuntimeWarning: divide by zero encountered in log10\n",
      "  if sys.path[0] == '':\n"
     ]
    },
    {
     "name": "stdout",
     "output_type": "stream",
     "text": [
      "fingerprint generated: kiki_0196\n",
      "fingerprint generated: kiki_0197\n",
      "fingerprint generated: kiki_0198\n"
     ]
    },
    {
     "name": "stderr",
     "output_type": "stream",
     "text": [
      "/usr/local/lib/python3.7/dist-packages/ipykernel_launcher.py:12: RuntimeWarning: divide by zero encountered in log10\n",
      "  if sys.path[0] == '':\n"
     ]
    },
    {
     "name": "stdout",
     "output_type": "stream",
     "text": [
      "fingerprint generated: kiki_0199\n",
      "fingerprint generated: kiki_0200\n"
     ]
    }
   ],
   "source": [
    "f = open('kiki20.pckl', 'wb')\n",
    "F_kiki20_arr = []\n",
    "for i in range(191,201):\n",
    "    index = str(i).zfill(4)\n",
    "    kiki_file = \"kiki_\" + index + \".m4a\"\n",
    "    F_kiki = get_fingerprint(kiki_file, 1)\n",
    "    print(\"fingerprint generated: kiki_\" + index)\n",
    "    F_kiki20_arr.append(F_kiki)\n",
    "pickle.dump(F_kiki20_arr, f)\n",
    "f.close()"
   ]
  },
  {
   "cell_type": "code",
   "execution_count": null,
   "metadata": {
    "colab": {
     "base_uri": "https://localhost:8080/"
    },
    "id": "baMxhLin_fad",
    "outputId": "db506b1a-facf-4889-fadc-78ac9782f0bf"
   },
   "outputs": [
    {
     "name": "stdout",
     "output_type": "stream",
     "text": [
      "fingerprint generated: bouba_0191\n",
      "fingerprint generated: bouba_0192\n"
     ]
    },
    {
     "name": "stderr",
     "output_type": "stream",
     "text": [
      "/usr/local/lib/python3.7/dist-packages/ipykernel_launcher.py:12: RuntimeWarning: divide by zero encountered in log10\n",
      "  if sys.path[0] == '':\n"
     ]
    },
    {
     "name": "stdout",
     "output_type": "stream",
     "text": [
      "fingerprint generated: bouba_0193\n",
      "fingerprint generated: bouba_0194\n",
      "fingerprint generated: bouba_0195\n",
      "fingerprint generated: bouba_0196\n",
      "fingerprint generated: bouba_0197\n",
      "fingerprint generated: bouba_0198\n",
      "fingerprint generated: bouba_0199\n",
      "fingerprint generated: bouba_0200\n"
     ]
    }
   ],
   "source": [
    "f = open('bouba20.pckl', 'wb')\n",
    "F_bouba20_arr = []\n",
    "for i in range(191,201):\n",
    "    index = str(i).zfill(4)\n",
    "    bouba_file = \"bouba_\" + index + \".m4a\"\n",
    "    F_bouba = get_fingerprint(bouba_file, 1)\n",
    "    print(\"fingerprint generated: bouba_\" + index)\n",
    "    F_bouba20_arr.append(F_bouba)\n",
    "pickle.dump(F_bouba20_arr, f)\n",
    "f.close()"
   ]
  },
  {
   "cell_type": "code",
   "execution_count": null,
   "metadata": {
    "colab": {
     "base_uri": "https://localhost:8080/"
    },
    "id": "S_umwJQsracu",
    "outputId": "25992d29-4911-4e41-9abe-3754892a3989"
   },
   "outputs": [
    {
     "name": "stdout",
     "output_type": "stream",
     "text": [
      "  adding: kiki20.pckl (deflated 74%)\n"
     ]
    }
   ],
   "source": [
    "!zip -r 'NewFileName.zip' 'kiki20.pckl'"
   ]
  },
  {
   "cell_type": "code",
   "execution_count": 35,
   "metadata": {},
   "outputs": [],
   "source": [
    "def generate_num_of_matches_new(F1, F2): # the old one was soooo slow \n",
    "    F1_hashes = np.array(F1)[:,1]\n",
    "    F2_hashes = np.array(F2)[:,1]\n",
    "    n = np.intersect1d(F1_hashes, F2_hashes).shape[0]\n",
    "    return n"
   ]
  },
  {
   "cell_type": "code",
   "execution_count": 34,
   "metadata": {},
   "outputs": [
    {
     "name": "stderr",
     "output_type": "stream",
     "text": [
      "<ipython-input-34-94c713aa5e31>:1: VisibleDeprecationWarning: Creating an ndarray from ragged nested sequences (which is a list-or-tuple of lists-or-tuples-or ndarrays with different lengths or shapes) is deprecated. If you meant to do this, you must specify 'dtype=object' when creating the ndarray\n",
      "  F1_hashes = np.array(F_q1)[:,1]\n",
      "<ipython-input-34-94c713aa5e31>:2: VisibleDeprecationWarning: Creating an ndarray from ragged nested sequences (which is a list-or-tuple of lists-or-tuples-or ndarrays with different lengths or shapes) is deprecated. If you meant to do this, you must specify 'dtype=object' when creating the ndarray\n",
      "  F2_hashes = np.array(F_kiki_arr_read[0])[:,1]\n"
     ]
    },
    {
     "data": {
      "text/plain": [
       "52"
      ]
     },
     "execution_count": 34,
     "metadata": {},
     "output_type": "execute_result"
    }
   ],
   "source": [
    "F1_hashes = np.array(F_q1)[:,1]\n",
    "F2_hashes = np.array(F_kiki_arr_read[0])[:,1]\n",
    "np.intersect1d(F1_hashes, F2_hashes).shape[0]"
   ]
  },
  {
   "cell_type": "code",
   "execution_count": 38,
   "metadata": {},
   "outputs": [
    {
     "name": "stdout",
     "output_type": "stream",
     "text": [
      "1\n"
     ]
    },
    {
     "name": "stderr",
     "output_type": "stream",
     "text": [
      "<ipython-input-35-a7d86bc9395b>:2: VisibleDeprecationWarning: Creating an ndarray from ragged nested sequences (which is a list-or-tuple of lists-or-tuples-or ndarrays with different lengths or shapes) is deprecated. If you meant to do this, you must specify 'dtype=object' when creating the ndarray\n",
      "  F1_hashes = np.array(F1)[:,1]\n",
      "<ipython-input-35-a7d86bc9395b>:3: VisibleDeprecationWarning: Creating an ndarray from ragged nested sequences (which is a list-or-tuple of lists-or-tuples-or ndarrays with different lengths or shapes) is deprecated. If you meant to do this, you must specify 'dtype=object' when creating the ndarray\n",
      "  F2_hashes = np.array(F2)[:,1]\n"
     ]
    },
    {
     "name": "stdout",
     "output_type": "stream",
     "text": [
      "kiki 0\n",
      "kiki 1\n",
      "kiki 2\n",
      "kiki 3\n",
      "kiki 4\n",
      "kiki 5\n",
      "kiki 6\n",
      "kiki 7\n",
      "kiki 8\n",
      "kiki 9\n",
      "bouba 0\n",
      "bouba 1\n",
      "bouba 2\n",
      "bouba 3\n",
      "bouba 4\n",
      "bouba 5\n",
      "bouba 6\n",
      "bouba 7\n",
      "bouba 8\n",
      "bouba 9\n",
      "2\n",
      "kiki 0\n",
      "kiki 1\n",
      "kiki 2\n",
      "kiki 3\n",
      "kiki 4\n",
      "kiki 5\n",
      "kiki 6\n",
      "kiki 7\n",
      "kiki 8\n",
      "kiki 9\n",
      "bouba 0\n",
      "bouba 1\n",
      "bouba 2\n",
      "bouba 3\n",
      "bouba 4\n",
      "bouba 5\n",
      "bouba 6\n",
      "bouba 7\n",
      "bouba 8\n",
      "bouba 9\n",
      "3\n",
      "kiki 0\n",
      "kiki 1\n",
      "kiki 2\n",
      "kiki 3\n",
      "kiki 4\n",
      "kiki 5\n",
      "kiki 6\n",
      "kiki 7\n",
      "kiki 8\n",
      "kiki 9\n",
      "bouba 0\n",
      "bouba 1\n",
      "bouba 2\n",
      "bouba 3\n",
      "bouba 4\n",
      "bouba 5\n",
      "bouba 6\n",
      "bouba 7\n",
      "bouba 8\n",
      "bouba 9\n",
      "4\n",
      "kiki 0\n",
      "kiki 1\n",
      "kiki 2\n",
      "kiki 3\n",
      "kiki 4\n",
      "kiki 5\n",
      "kiki 6\n",
      "kiki 7\n",
      "kiki 8\n",
      "kiki 9\n",
      "bouba 0\n",
      "bouba 1\n",
      "bouba 2\n",
      "bouba 3\n",
      "bouba 4\n",
      "bouba 5\n",
      "bouba 6\n",
      "bouba 7\n",
      "bouba 8\n",
      "bouba 9\n",
      "5\n",
      "kiki 0\n",
      "kiki 1\n",
      "kiki 2\n",
      "kiki 3\n",
      "kiki 4\n",
      "kiki 5\n",
      "kiki 6\n",
      "kiki 7\n",
      "kiki 8\n",
      "kiki 9\n",
      "bouba 0\n",
      "bouba 1\n",
      "bouba 2\n",
      "bouba 3\n",
      "bouba 4\n",
      "bouba 5\n",
      "bouba 6\n",
      "bouba 7\n",
      "bouba 8\n",
      "bouba 9\n",
      "6\n",
      "kiki 0\n",
      "kiki 1\n",
      "kiki 2\n",
      "kiki 3\n",
      "kiki 4\n",
      "kiki 5\n",
      "kiki 6\n",
      "kiki 7\n",
      "kiki 8\n",
      "kiki 9\n",
      "bouba 0\n",
      "bouba 1\n",
      "bouba 2\n",
      "bouba 3\n",
      "bouba 4\n",
      "bouba 5\n",
      "bouba 6\n",
      "bouba 7\n",
      "bouba 8\n",
      "bouba 9\n",
      "7\n",
      "kiki 0\n",
      "kiki 1\n",
      "kiki 2\n",
      "kiki 3\n",
      "kiki 4\n",
      "kiki 5\n",
      "kiki 6\n",
      "kiki 7\n",
      "kiki 8\n",
      "kiki 9\n",
      "bouba 0\n",
      "bouba 1\n",
      "bouba 2\n",
      "bouba 3\n",
      "bouba 4\n",
      "bouba 5\n",
      "bouba 6\n",
      "bouba 7\n",
      "bouba 8\n",
      "bouba 9\n",
      "8\n",
      "kiki 0\n",
      "kiki 1\n",
      "kiki 2\n",
      "kiki 3\n",
      "kiki 4\n",
      "kiki 5\n",
      "kiki 6\n",
      "kiki 7\n",
      "kiki 8\n",
      "kiki 9\n",
      "bouba 0\n",
      "bouba 1\n",
      "bouba 2\n",
      "bouba 3\n",
      "bouba 4\n",
      "bouba 5\n",
      "bouba 6\n",
      "bouba 7\n",
      "bouba 8\n",
      "bouba 9\n",
      "9\n",
      "kiki 0\n",
      "kiki 1\n",
      "kiki 2\n",
      "kiki 3\n",
      "kiki 4\n",
      "kiki 5\n",
      "kiki 6\n",
      "kiki 7\n",
      "kiki 8\n",
      "kiki 9\n",
      "bouba 0\n",
      "bouba 1\n",
      "bouba 2\n",
      "bouba 3\n",
      "bouba 4\n",
      "bouba 5\n",
      "bouba 6\n",
      "bouba 7\n",
      "bouba 8\n",
      "bouba 9\n",
      "10\n",
      "kiki 0\n",
      "kiki 1\n",
      "kiki 2\n",
      "kiki 3\n",
      "kiki 4\n",
      "kiki 5\n",
      "kiki 6\n",
      "kiki 7\n",
      "kiki 8\n",
      "kiki 9\n",
      "bouba 0\n",
      "bouba 1\n",
      "bouba 2\n",
      "bouba 3\n",
      "bouba 4\n",
      "bouba 5\n",
      "bouba 6\n",
      "bouba 7\n",
      "bouba 8\n",
      "bouba 9\n",
      "11\n",
      "kiki 0\n",
      "kiki 1\n",
      "kiki 2\n",
      "kiki 3\n",
      "kiki 4\n",
      "kiki 5\n",
      "kiki 6\n",
      "kiki 7\n",
      "kiki 8\n",
      "kiki 9\n",
      "bouba 0\n",
      "bouba 1\n",
      "bouba 2\n",
      "bouba 3\n",
      "bouba 4\n",
      "bouba 5\n",
      "bouba 6\n",
      "bouba 7\n",
      "bouba 8\n",
      "bouba 9\n",
      "12\n",
      "kiki 0\n",
      "kiki 1\n",
      "kiki 2\n",
      "kiki 3\n",
      "kiki 4\n",
      "kiki 5\n",
      "kiki 6\n",
      "kiki 7\n",
      "kiki 8\n",
      "kiki 9\n",
      "bouba 0\n",
      "bouba 1\n",
      "bouba 2\n",
      "bouba 3\n",
      "bouba 4\n",
      "bouba 5\n",
      "bouba 6\n",
      "bouba 7\n",
      "bouba 8\n",
      "bouba 9\n",
      "13\n",
      "kiki 0\n",
      "kiki 1\n",
      "kiki 2\n",
      "kiki 3\n",
      "kiki 4\n",
      "kiki 5\n",
      "kiki 6\n",
      "kiki 7\n",
      "kiki 8\n",
      "kiki 9\n",
      "bouba 0\n",
      "bouba 1\n",
      "bouba 2\n",
      "bouba 3\n",
      "bouba 4\n",
      "bouba 5\n",
      "bouba 6\n",
      "bouba 7\n",
      "bouba 8\n",
      "bouba 9\n",
      "14\n",
      "kiki 0\n",
      "kiki 1\n",
      "kiki 2\n",
      "kiki 3\n",
      "kiki 4\n",
      "kiki 5\n",
      "kiki 6\n",
      "kiki 7\n",
      "kiki 8\n",
      "kiki 9\n",
      "bouba 0\n",
      "bouba 1\n",
      "bouba 2\n",
      "bouba 3\n",
      "bouba 4\n",
      "bouba 5\n",
      "bouba 6\n",
      "bouba 7\n",
      "bouba 8\n",
      "bouba 9\n",
      "15\n",
      "kiki 0\n",
      "kiki 1\n",
      "kiki 2\n",
      "kiki 3\n",
      "kiki 4\n",
      "kiki 5\n",
      "kiki 6\n",
      "kiki 7\n",
      "kiki 8\n",
      "kiki 9\n",
      "bouba 0\n",
      "bouba 1\n",
      "bouba 2\n",
      "bouba 3\n",
      "bouba 4\n",
      "bouba 5\n",
      "bouba 6\n",
      "bouba 7\n",
      "bouba 8\n",
      "bouba 9\n",
      "16\n",
      "kiki 0\n",
      "kiki 1\n",
      "kiki 2\n",
      "kiki 3\n",
      "kiki 4\n",
      "kiki 5\n",
      "kiki 6\n",
      "kiki 7\n",
      "kiki 8\n",
      "kiki 9\n",
      "bouba 0\n",
      "bouba 1\n",
      "bouba 2\n",
      "bouba 3\n",
      "bouba 4\n",
      "bouba 5\n",
      "bouba 6\n",
      "bouba 7\n",
      "bouba 8\n",
      "bouba 9\n",
      "17\n",
      "kiki 0\n",
      "kiki 1\n",
      "kiki 2\n",
      "kiki 3\n",
      "kiki 4\n",
      "kiki 5\n",
      "kiki 6\n",
      "kiki 7\n",
      "kiki 8\n",
      "kiki 9\n",
      "bouba 0\n",
      "bouba 1\n",
      "bouba 2\n",
      "bouba 3\n",
      "bouba 4\n",
      "bouba 5\n",
      "bouba 6\n",
      "bouba 7\n",
      "bouba 8\n",
      "bouba 9\n",
      "18\n",
      "kiki 0\n",
      "kiki 1\n",
      "kiki 2\n",
      "kiki 3\n",
      "kiki 4\n",
      "kiki 5\n",
      "kiki 6\n",
      "kiki 7\n",
      "kiki 8\n",
      "kiki 9\n",
      "bouba 0\n",
      "bouba 1\n",
      "bouba 2\n",
      "bouba 3\n",
      "bouba 4\n",
      "bouba 5\n",
      "bouba 6\n",
      "bouba 7\n",
      "bouba 8\n",
      "bouba 9\n",
      "19\n",
      "kiki 0\n",
      "kiki 1\n",
      "kiki 2\n",
      "kiki 3\n",
      "kiki 4\n",
      "kiki 5\n",
      "kiki 6\n",
      "kiki 7\n",
      "kiki 8\n",
      "kiki 9\n",
      "bouba 0\n",
      "bouba 1\n",
      "bouba 2\n",
      "bouba 3\n",
      "bouba 4\n",
      "bouba 5\n",
      "bouba 6\n",
      "bouba 7\n",
      "bouba 8\n",
      "bouba 9\n",
      "20\n",
      "kiki 0\n",
      "kiki 1\n",
      "kiki 2\n",
      "kiki 3\n",
      "kiki 4\n",
      "kiki 5\n",
      "kiki 6\n",
      "kiki 7\n",
      "kiki 8\n",
      "kiki 9\n",
      "bouba 0\n",
      "bouba 1\n",
      "bouba 2\n",
      "bouba 3\n",
      "bouba 4\n",
      "bouba 5\n",
      "bouba 6\n",
      "bouba 7\n",
      "bouba 8\n",
      "bouba 9\n"
     ]
    }
   ],
   "source": [
    "F_q1 = F_q_arr_read[0]\n",
    "\n",
    "max_num_of_matches = np.zeros(20)\n",
    "max_index = np.zeros(20)\n",
    "bouba_kiki = np.zeros(20) # 0 = undefined, 1 = kiki, 2 = bouba\n",
    "for i in range(20):\n",
    "    index = str(i + 1)\n",
    "    print(index)\n",
    "    kiki_name = 'kiki' + index + '.pckl'\n",
    "    f = open(kiki_name, 'rb')\n",
    "    F_kiki_arr_read = pickle.load(f)\n",
    "    f.close()\n",
    "    for j in range(10):\n",
    "        F_kiki_tmp = F_kiki_arr_read[j]\n",
    "        num_of_matches = generate_num_of_matches_new(F_kiki_tmp, F_q1)\n",
    "        print(\"kiki\", j)\n",
    "        if num_of_matches > max_num_of_matches[i]:\n",
    "            max_num_of_matches[i] = num_of_matches\n",
    "            max_index[i] = j\n",
    "            bouba_kiki[i] = 1\n",
    "    bouba_name = 'bouba' + index + '.pckl'\n",
    "    f = open(bouba_name, 'rb')\n",
    "    F_bouba_arr_read = pickle.load(f)\n",
    "    f.close()\n",
    "    for j in range(10):\n",
    "        F_bouba_tmp = F_bouba_arr_read[j]\n",
    "        num_of_matches = generate_num_of_matches_new(F_bouba_tmp, F_q1)\n",
    "        print(\"bouba\", j)\n",
    "        if num_of_matches > max_num_of_matches[i]:\n",
    "            max_num_of_matches[i] = num_of_matches\n",
    "            max_index[i] = j\n",
    "            bouba_kiki[i] = 2"
   ]
  },
  {
   "cell_type": "code",
   "execution_count": 39,
   "metadata": {},
   "outputs": [
    {
     "data": {
      "text/plain": [
       "array([345., 297., 362., 313., 349., 290., 335., 317., 304., 301., 347.,\n",
       "       295., 327., 665., 391., 328., 388., 321., 323., 288.])"
      ]
     },
     "execution_count": 39,
     "metadata": {},
     "output_type": "execute_result"
    }
   ],
   "source": [
    "max_num_of_matches"
   ]
  },
  {
   "cell_type": "code",
   "execution_count": 40,
   "metadata": {},
   "outputs": [
    {
     "name": "stdout",
     "output_type": "stream",
     "text": [
      "bouba0131\n",
      "665.0\n"
     ]
    }
   ],
   "source": [
    "argmax_matches = np.argmax(max_num_of_matches)\n",
    "result_index = 10 * argmax_matches + max_index[argmax_matches] + 1\n",
    "if(bouba_kiki[argmax_matches] == 1): print(\"kiki\" + str(int(result_index)).zfill(4))\n",
    "if(bouba_kiki[argmax_matches] == 2): print(\"bouba\" + str(int(result_index)).zfill(4))\n",
    "print(max_num_of_matches[argmax_matches])"
   ]
  },
  {
   "cell_type": "code",
   "execution_count": 41,
   "metadata": {},
   "outputs": [
    {
     "name": "stdout",
     "output_type": "stream",
     "text": [
      "1\n"
     ]
    },
    {
     "name": "stderr",
     "output_type": "stream",
     "text": [
      "<ipython-input-35-a7d86bc9395b>:2: VisibleDeprecationWarning: Creating an ndarray from ragged nested sequences (which is a list-or-tuple of lists-or-tuples-or ndarrays with different lengths or shapes) is deprecated. If you meant to do this, you must specify 'dtype=object' when creating the ndarray\n",
      "  F1_hashes = np.array(F1)[:,1]\n",
      "<ipython-input-35-a7d86bc9395b>:3: VisibleDeprecationWarning: Creating an ndarray from ragged nested sequences (which is a list-or-tuple of lists-or-tuples-or ndarrays with different lengths or shapes) is deprecated. If you meant to do this, you must specify 'dtype=object' when creating the ndarray\n",
      "  F2_hashes = np.array(F2)[:,1]\n"
     ]
    },
    {
     "name": "stdout",
     "output_type": "stream",
     "text": [
      "kiki 0\n",
      "kiki 1\n",
      "kiki 2\n",
      "kiki 3\n",
      "kiki 4\n",
      "kiki 5\n",
      "kiki 6\n",
      "kiki 7\n",
      "kiki 8\n",
      "kiki 9\n",
      "bouba 0\n",
      "bouba 1\n",
      "bouba 2\n",
      "bouba 3\n",
      "bouba 4\n",
      "bouba 5\n",
      "bouba 6\n",
      "bouba 7\n",
      "bouba 8\n",
      "bouba 9\n",
      "2\n",
      "kiki 0\n",
      "kiki 1\n",
      "kiki 2\n",
      "kiki 3\n",
      "kiki 4\n",
      "kiki 5\n",
      "kiki 6\n",
      "kiki 7\n",
      "kiki 8\n",
      "kiki 9\n",
      "bouba 0\n",
      "bouba 1\n",
      "bouba 2\n",
      "bouba 3\n",
      "bouba 4\n",
      "bouba 5\n",
      "bouba 6\n",
      "bouba 7\n",
      "bouba 8\n",
      "bouba 9\n",
      "3\n",
      "kiki 0\n",
      "kiki 1\n",
      "kiki 2\n",
      "kiki 3\n",
      "kiki 4\n",
      "kiki 5\n",
      "kiki 6\n",
      "kiki 7\n",
      "kiki 8\n",
      "kiki 9\n",
      "bouba 0\n",
      "bouba 1\n",
      "bouba 2\n",
      "bouba 3\n",
      "bouba 4\n",
      "bouba 5\n",
      "bouba 6\n",
      "bouba 7\n",
      "bouba 8\n",
      "bouba 9\n",
      "4\n",
      "kiki 0\n",
      "kiki 1\n",
      "kiki 2\n",
      "kiki 3\n",
      "kiki 4\n",
      "kiki 5\n",
      "kiki 6\n",
      "kiki 7\n",
      "kiki 8\n",
      "kiki 9\n",
      "bouba 0\n",
      "bouba 1\n",
      "bouba 2\n",
      "bouba 3\n",
      "bouba 4\n",
      "bouba 5\n",
      "bouba 6\n",
      "bouba 7\n",
      "bouba 8\n",
      "bouba 9\n",
      "5\n",
      "kiki 0\n",
      "kiki 1\n",
      "kiki 2\n",
      "kiki 3\n",
      "kiki 4\n",
      "kiki 5\n",
      "kiki 6\n",
      "kiki 7\n",
      "kiki 8\n",
      "kiki 9\n",
      "bouba 0\n",
      "bouba 1\n",
      "bouba 2\n",
      "bouba 3\n",
      "bouba 4\n",
      "bouba 5\n",
      "bouba 6\n",
      "bouba 7\n",
      "bouba 8\n",
      "bouba 9\n",
      "6\n",
      "kiki 0\n",
      "kiki 1\n",
      "kiki 2\n",
      "kiki 3\n",
      "kiki 4\n",
      "kiki 5\n",
      "kiki 6\n",
      "kiki 7\n",
      "kiki 8\n",
      "kiki 9\n",
      "bouba 0\n",
      "bouba 1\n",
      "bouba 2\n",
      "bouba 3\n",
      "bouba 4\n",
      "bouba 5\n",
      "bouba 6\n",
      "bouba 7\n",
      "bouba 8\n",
      "bouba 9\n",
      "7\n",
      "kiki 0\n",
      "kiki 1\n",
      "kiki 2\n",
      "kiki 3\n",
      "kiki 4\n",
      "kiki 5\n",
      "kiki 6\n",
      "kiki 7\n",
      "kiki 8\n",
      "kiki 9\n",
      "bouba 0\n",
      "bouba 1\n",
      "bouba 2\n",
      "bouba 3\n",
      "bouba 4\n",
      "bouba 5\n",
      "bouba 6\n",
      "bouba 7\n",
      "bouba 8\n",
      "bouba 9\n",
      "8\n",
      "kiki 0\n",
      "kiki 1\n",
      "kiki 2\n",
      "kiki 3\n",
      "kiki 4\n",
      "kiki 5\n",
      "kiki 6\n",
      "kiki 7\n",
      "kiki 8\n",
      "kiki 9\n",
      "bouba 0\n",
      "bouba 1\n",
      "bouba 2\n",
      "bouba 3\n",
      "bouba 4\n",
      "bouba 5\n",
      "bouba 6\n",
      "bouba 7\n",
      "bouba 8\n",
      "bouba 9\n",
      "9\n",
      "kiki 0\n",
      "kiki 1\n",
      "kiki 2\n",
      "kiki 3\n",
      "kiki 4\n",
      "kiki 5\n",
      "kiki 6\n",
      "kiki 7\n",
      "kiki 8\n",
      "kiki 9\n",
      "bouba 0\n",
      "bouba 1\n",
      "bouba 2\n",
      "bouba 3\n",
      "bouba 4\n",
      "bouba 5\n",
      "bouba 6\n",
      "bouba 7\n",
      "bouba 8\n",
      "bouba 9\n",
      "10\n",
      "kiki 0\n",
      "kiki 1\n",
      "kiki 2\n",
      "kiki 3\n",
      "kiki 4\n",
      "kiki 5\n",
      "kiki 6\n",
      "kiki 7\n",
      "kiki 8\n",
      "kiki 9\n",
      "bouba 0\n",
      "bouba 1\n",
      "bouba 2\n",
      "bouba 3\n",
      "bouba 4\n",
      "bouba 5\n",
      "bouba 6\n",
      "bouba 7\n",
      "bouba 8\n",
      "bouba 9\n",
      "11\n",
      "kiki 0\n",
      "kiki 1\n",
      "kiki 2\n",
      "kiki 3\n",
      "kiki 4\n",
      "kiki 5\n",
      "kiki 6\n",
      "kiki 7\n",
      "kiki 8\n",
      "kiki 9\n",
      "bouba 0\n",
      "bouba 1\n",
      "bouba 2\n",
      "bouba 3\n",
      "bouba 4\n",
      "bouba 5\n",
      "bouba 6\n",
      "bouba 7\n",
      "bouba 8\n",
      "bouba 9\n",
      "12\n",
      "kiki 0\n",
      "kiki 1\n",
      "kiki 2\n",
      "kiki 3\n",
      "kiki 4\n",
      "kiki 5\n",
      "kiki 6\n",
      "kiki 7\n",
      "kiki 8\n",
      "kiki 9\n",
      "bouba 0\n",
      "bouba 1\n",
      "bouba 2\n",
      "bouba 3\n",
      "bouba 4\n",
      "bouba 5\n",
      "bouba 6\n",
      "bouba 7\n",
      "bouba 8\n",
      "bouba 9\n",
      "13\n",
      "kiki 0\n",
      "kiki 1\n",
      "kiki 2\n",
      "kiki 3\n",
      "kiki 4\n",
      "kiki 5\n",
      "kiki 6\n",
      "kiki 7\n",
      "kiki 8\n",
      "kiki 9\n",
      "bouba 0\n",
      "bouba 1\n",
      "bouba 2\n",
      "bouba 3\n",
      "bouba 4\n",
      "bouba 5\n",
      "bouba 6\n",
      "bouba 7\n",
      "bouba 8\n",
      "bouba 9\n",
      "14\n",
      "kiki 0\n",
      "kiki 1\n",
      "kiki 2\n",
      "kiki 3\n",
      "kiki 4\n",
      "kiki 5\n",
      "kiki 6\n",
      "kiki 7\n",
      "kiki 8\n",
      "kiki 9\n",
      "bouba 0\n",
      "bouba 1\n",
      "bouba 2\n",
      "bouba 3\n",
      "bouba 4\n",
      "bouba 5\n",
      "bouba 6\n",
      "bouba 7\n",
      "bouba 8\n",
      "bouba 9\n",
      "15\n",
      "kiki 0\n",
      "kiki 1\n",
      "kiki 2\n",
      "kiki 3\n",
      "kiki 4\n",
      "kiki 5\n",
      "kiki 6\n",
      "kiki 7\n",
      "kiki 8\n",
      "kiki 9\n",
      "bouba 0\n",
      "bouba 1\n",
      "bouba 2\n",
      "bouba 3\n",
      "bouba 4\n",
      "bouba 5\n",
      "bouba 6\n",
      "bouba 7\n",
      "bouba 8\n",
      "bouba 9\n",
      "16\n",
      "kiki 0\n",
      "kiki 1\n",
      "kiki 2\n",
      "kiki 3\n",
      "kiki 4\n",
      "kiki 5\n",
      "kiki 6\n",
      "kiki 7\n",
      "kiki 8\n",
      "kiki 9\n",
      "bouba 0\n",
      "bouba 1\n",
      "bouba 2\n",
      "bouba 3\n",
      "bouba 4\n",
      "bouba 5\n",
      "bouba 6\n",
      "bouba 7\n",
      "bouba 8\n",
      "bouba 9\n",
      "17\n",
      "kiki 0\n",
      "kiki 1\n",
      "kiki 2\n",
      "kiki 3\n",
      "kiki 4\n",
      "kiki 5\n",
      "kiki 6\n",
      "kiki 7\n",
      "kiki 8\n",
      "kiki 9\n",
      "bouba 0\n",
      "bouba 1\n",
      "bouba 2\n",
      "bouba 3\n",
      "bouba 4\n",
      "bouba 5\n",
      "bouba 6\n",
      "bouba 7\n",
      "bouba 8\n",
      "bouba 9\n",
      "18\n",
      "kiki 0\n",
      "kiki 1\n",
      "kiki 2\n",
      "kiki 3\n",
      "kiki 4\n",
      "kiki 5\n",
      "kiki 6\n",
      "kiki 7\n",
      "kiki 8\n",
      "kiki 9\n",
      "bouba 0\n",
      "bouba 1\n",
      "bouba 2\n",
      "bouba 3\n",
      "bouba 4\n",
      "bouba 5\n",
      "bouba 6\n",
      "bouba 7\n",
      "bouba 8\n",
      "bouba 9\n",
      "19\n",
      "kiki 0\n",
      "kiki 1\n",
      "kiki 2\n",
      "kiki 3\n",
      "kiki 4\n",
      "kiki 5\n",
      "kiki 6\n",
      "kiki 7\n",
      "kiki 8\n",
      "kiki 9\n",
      "bouba 0\n",
      "bouba 1\n",
      "bouba 2\n",
      "bouba 3\n",
      "bouba 4\n",
      "bouba 5\n",
      "bouba 6\n",
      "bouba 7\n",
      "bouba 8\n",
      "bouba 9\n",
      "20\n",
      "kiki 0\n",
      "kiki 1\n",
      "kiki 2\n",
      "kiki 3\n",
      "kiki 4\n",
      "kiki 5\n",
      "kiki 6\n",
      "kiki 7\n",
      "kiki 8\n",
      "kiki 9\n",
      "bouba 0\n",
      "bouba 1\n",
      "bouba 2\n",
      "bouba 3\n",
      "bouba 4\n",
      "bouba 5\n",
      "bouba 6\n",
      "bouba 7\n",
      "bouba 8\n",
      "bouba 9\n"
     ]
    }
   ],
   "source": [
    "F_q2 = F_q_arr_read[1]\n",
    "\n",
    "max_num_of_matches = np.zeros(20)\n",
    "max_index = np.zeros(20)\n",
    "bouba_kiki = np.zeros(20) # 0 = undefined, 1 = kiki, 2 = bouba\n",
    "for i in range(20):\n",
    "    index = str(i + 1)\n",
    "    print(index)\n",
    "    kiki_name = 'kiki' + index + '.pckl'\n",
    "    f = open(kiki_name, 'rb')\n",
    "    F_kiki_arr_read = pickle.load(f)\n",
    "    f.close()\n",
    "    for j in range(10):\n",
    "        F_kiki_tmp = F_kiki_arr_read[j]\n",
    "        num_of_matches = generate_num_of_matches_new(F_kiki_tmp, F_q2)\n",
    "        print(\"kiki\", j)\n",
    "        if num_of_matches > max_num_of_matches[i]:\n",
    "            max_num_of_matches[i] = num_of_matches\n",
    "            max_index[i] = j\n",
    "            bouba_kiki[i] = 1\n",
    "    bouba_name = 'bouba' + index + '.pckl'\n",
    "    f = open(bouba_name, 'rb')\n",
    "    F_bouba_arr_read = pickle.load(f)\n",
    "    f.close()\n",
    "    for j in range(10):\n",
    "        F_bouba_tmp = F_bouba_arr_read[j]\n",
    "        num_of_matches = generate_num_of_matches_new(F_bouba_tmp, F_q2)\n",
    "        print(\"bouba\", j)\n",
    "        if num_of_matches > max_num_of_matches[i]:\n",
    "            max_num_of_matches[i] = num_of_matches\n",
    "            max_index[i] = j\n",
    "            bouba_kiki[i] = 2"
   ]
  },
  {
   "cell_type": "code",
   "execution_count": 42,
   "metadata": {},
   "outputs": [
    {
     "name": "stdout",
     "output_type": "stream",
     "text": [
      "bouba0051\n",
      "508.0\n"
     ]
    }
   ],
   "source": [
    "argmax_matches = np.argmax(max_num_of_matches)\n",
    "result_index = 10 * argmax_matches + max_index[argmax_matches] + 1\n",
    "if(bouba_kiki[argmax_matches] == 1): print(\"kiki\" + str(int(result_index)).zfill(4))\n",
    "if(bouba_kiki[argmax_matches] == 2): print(\"bouba\" + str(int(result_index)).zfill(4))\n",
    "print(max_num_of_matches[argmax_matches])"
   ]
  },
  {
   "cell_type": "code",
   "execution_count": 43,
   "metadata": {},
   "outputs": [
    {
     "name": "stdout",
     "output_type": "stream",
     "text": [
      "1\n"
     ]
    },
    {
     "name": "stderr",
     "output_type": "stream",
     "text": [
      "<ipython-input-35-a7d86bc9395b>:2: VisibleDeprecationWarning: Creating an ndarray from ragged nested sequences (which is a list-or-tuple of lists-or-tuples-or ndarrays with different lengths or shapes) is deprecated. If you meant to do this, you must specify 'dtype=object' when creating the ndarray\n",
      "  F1_hashes = np.array(F1)[:,1]\n",
      "<ipython-input-35-a7d86bc9395b>:3: VisibleDeprecationWarning: Creating an ndarray from ragged nested sequences (which is a list-or-tuple of lists-or-tuples-or ndarrays with different lengths or shapes) is deprecated. If you meant to do this, you must specify 'dtype=object' when creating the ndarray\n",
      "  F2_hashes = np.array(F2)[:,1]\n"
     ]
    },
    {
     "name": "stdout",
     "output_type": "stream",
     "text": [
      "kiki 0\n",
      "kiki 1\n",
      "kiki 2\n",
      "kiki 3\n",
      "kiki 4\n",
      "kiki 5\n",
      "kiki 6\n",
      "kiki 7\n",
      "kiki 8\n",
      "kiki 9\n",
      "bouba 0\n",
      "bouba 1\n",
      "bouba 2\n",
      "bouba 3\n",
      "bouba 4\n",
      "bouba 5\n",
      "bouba 6\n",
      "bouba 7\n",
      "bouba 8\n",
      "bouba 9\n",
      "2\n",
      "kiki 0\n",
      "kiki 1\n",
      "kiki 2\n",
      "kiki 3\n",
      "kiki 4\n",
      "kiki 5\n",
      "kiki 6\n",
      "kiki 7\n",
      "kiki 8\n",
      "kiki 9\n",
      "bouba 0\n",
      "bouba 1\n",
      "bouba 2\n",
      "bouba 3\n",
      "bouba 4\n",
      "bouba 5\n",
      "bouba 6\n",
      "bouba 7\n",
      "bouba 8\n",
      "bouba 9\n",
      "3\n",
      "kiki 0\n",
      "kiki 1\n",
      "kiki 2\n",
      "kiki 3\n",
      "kiki 4\n",
      "kiki 5\n",
      "kiki 6\n",
      "kiki 7\n",
      "kiki 8\n",
      "kiki 9\n",
      "bouba 0\n",
      "bouba 1\n",
      "bouba 2\n",
      "bouba 3\n",
      "bouba 4\n",
      "bouba 5\n",
      "bouba 6\n",
      "bouba 7\n",
      "bouba 8\n",
      "bouba 9\n",
      "4\n",
      "kiki 0\n",
      "kiki 1\n",
      "kiki 2\n",
      "kiki 3\n",
      "kiki 4\n",
      "kiki 5\n",
      "kiki 6\n",
      "kiki 7\n",
      "kiki 8\n",
      "kiki 9\n",
      "bouba 0\n",
      "bouba 1\n",
      "bouba 2\n",
      "bouba 3\n",
      "bouba 4\n",
      "bouba 5\n",
      "bouba 6\n",
      "bouba 7\n",
      "bouba 8\n",
      "bouba 9\n",
      "5\n",
      "kiki 0\n",
      "kiki 1\n",
      "kiki 2\n",
      "kiki 3\n",
      "kiki 4\n",
      "kiki 5\n",
      "kiki 6\n",
      "kiki 7\n",
      "kiki 8\n",
      "kiki 9\n",
      "bouba 0\n",
      "bouba 1\n",
      "bouba 2\n",
      "bouba 3\n",
      "bouba 4\n",
      "bouba 5\n",
      "bouba 6\n",
      "bouba 7\n",
      "bouba 8\n",
      "bouba 9\n",
      "6\n",
      "kiki 0\n",
      "kiki 1\n",
      "kiki 2\n",
      "kiki 3\n",
      "kiki 4\n",
      "kiki 5\n",
      "kiki 6\n",
      "kiki 7\n",
      "kiki 8\n",
      "kiki 9\n",
      "bouba 0\n",
      "bouba 1\n",
      "bouba 2\n",
      "bouba 3\n",
      "bouba 4\n",
      "bouba 5\n",
      "bouba 6\n",
      "bouba 7\n",
      "bouba 8\n",
      "bouba 9\n",
      "7\n",
      "kiki 0\n",
      "kiki 1\n",
      "kiki 2\n",
      "kiki 3\n",
      "kiki 4\n",
      "kiki 5\n",
      "kiki 6\n",
      "kiki 7\n",
      "kiki 8\n",
      "kiki 9\n",
      "bouba 0\n",
      "bouba 1\n",
      "bouba 2\n",
      "bouba 3\n",
      "bouba 4\n",
      "bouba 5\n",
      "bouba 6\n",
      "bouba 7\n",
      "bouba 8\n",
      "bouba 9\n",
      "8\n",
      "kiki 0\n",
      "kiki 1\n",
      "kiki 2\n",
      "kiki 3\n",
      "kiki 4\n",
      "kiki 5\n",
      "kiki 6\n",
      "kiki 7\n",
      "kiki 8\n",
      "kiki 9\n",
      "bouba 0\n",
      "bouba 1\n",
      "bouba 2\n",
      "bouba 3\n",
      "bouba 4\n",
      "bouba 5\n",
      "bouba 6\n",
      "bouba 7\n",
      "bouba 8\n",
      "bouba 9\n",
      "9\n",
      "kiki 0\n",
      "kiki 1\n",
      "kiki 2\n",
      "kiki 3\n",
      "kiki 4\n",
      "kiki 5\n",
      "kiki 6\n",
      "kiki 7\n",
      "kiki 8\n",
      "kiki 9\n",
      "bouba 0\n",
      "bouba 1\n",
      "bouba 2\n",
      "bouba 3\n",
      "bouba 4\n",
      "bouba 5\n",
      "bouba 6\n",
      "bouba 7\n",
      "bouba 8\n",
      "bouba 9\n",
      "10\n",
      "kiki 0\n",
      "kiki 1\n",
      "kiki 2\n",
      "kiki 3\n",
      "kiki 4\n",
      "kiki 5\n",
      "kiki 6\n",
      "kiki 7\n",
      "kiki 8\n",
      "kiki 9\n",
      "bouba 0\n",
      "bouba 1\n",
      "bouba 2\n",
      "bouba 3\n",
      "bouba 4\n",
      "bouba 5\n",
      "bouba 6\n",
      "bouba 7\n",
      "bouba 8\n",
      "bouba 9\n",
      "11\n",
      "kiki 0\n",
      "kiki 1\n",
      "kiki 2\n",
      "kiki 3\n",
      "kiki 4\n",
      "kiki 5\n",
      "kiki 6\n",
      "kiki 7\n",
      "kiki 8\n",
      "kiki 9\n",
      "bouba 0\n",
      "bouba 1\n",
      "bouba 2\n",
      "bouba 3\n",
      "bouba 4\n",
      "bouba 5\n",
      "bouba 6\n",
      "bouba 7\n",
      "bouba 8\n",
      "bouba 9\n",
      "12\n",
      "kiki 0\n",
      "kiki 1\n",
      "kiki 2\n",
      "kiki 3\n",
      "kiki 4\n",
      "kiki 5\n",
      "kiki 6\n",
      "kiki 7\n",
      "kiki 8\n",
      "kiki 9\n",
      "bouba 0\n",
      "bouba 1\n",
      "bouba 2\n",
      "bouba 3\n",
      "bouba 4\n",
      "bouba 5\n",
      "bouba 6\n",
      "bouba 7\n",
      "bouba 8\n",
      "bouba 9\n",
      "13\n",
      "kiki 0\n",
      "kiki 1\n",
      "kiki 2\n",
      "kiki 3\n",
      "kiki 4\n",
      "kiki 5\n",
      "kiki 6\n",
      "kiki 7\n",
      "kiki 8\n",
      "kiki 9\n",
      "bouba 0\n",
      "bouba 1\n",
      "bouba 2\n",
      "bouba 3\n",
      "bouba 4\n",
      "bouba 5\n",
      "bouba 6\n",
      "bouba 7\n",
      "bouba 8\n",
      "bouba 9\n",
      "14\n",
      "kiki 0\n",
      "kiki 1\n",
      "kiki 2\n",
      "kiki 3\n",
      "kiki 4\n",
      "kiki 5\n",
      "kiki 6\n",
      "kiki 7\n",
      "kiki 8\n",
      "kiki 9\n",
      "bouba 0\n",
      "bouba 1\n",
      "bouba 2\n",
      "bouba 3\n",
      "bouba 4\n",
      "bouba 5\n",
      "bouba 6\n",
      "bouba 7\n",
      "bouba 8\n",
      "bouba 9\n",
      "15\n",
      "kiki 0\n",
      "kiki 1\n",
      "kiki 2\n",
      "kiki 3\n",
      "kiki 4\n",
      "kiki 5\n",
      "kiki 6\n",
      "kiki 7\n",
      "kiki 8\n",
      "kiki 9\n",
      "bouba 0\n",
      "bouba 1\n",
      "bouba 2\n",
      "bouba 3\n",
      "bouba 4\n",
      "bouba 5\n",
      "bouba 6\n",
      "bouba 7\n",
      "bouba 8\n",
      "bouba 9\n",
      "16\n",
      "kiki 0\n",
      "kiki 1\n",
      "kiki 2\n",
      "kiki 3\n",
      "kiki 4\n",
      "kiki 5\n",
      "kiki 6\n",
      "kiki 7\n",
      "kiki 8\n",
      "kiki 9\n",
      "bouba 0\n",
      "bouba 1\n",
      "bouba 2\n",
      "bouba 3\n",
      "bouba 4\n",
      "bouba 5\n",
      "bouba 6\n",
      "bouba 7\n",
      "bouba 8\n",
      "bouba 9\n",
      "17\n",
      "kiki 0\n",
      "kiki 1\n",
      "kiki 2\n",
      "kiki 3\n",
      "kiki 4\n",
      "kiki 5\n",
      "kiki 6\n",
      "kiki 7\n",
      "kiki 8\n",
      "kiki 9\n",
      "bouba 0\n",
      "bouba 1\n",
      "bouba 2\n",
      "bouba 3\n",
      "bouba 4\n",
      "bouba 5\n",
      "bouba 6\n",
      "bouba 7\n",
      "bouba 8\n",
      "bouba 9\n",
      "18\n",
      "kiki 0\n",
      "kiki 1\n",
      "kiki 2\n",
      "kiki 3\n",
      "kiki 4\n",
      "kiki 5\n",
      "kiki 6\n",
      "kiki 7\n",
      "kiki 8\n",
      "kiki 9\n",
      "bouba 0\n",
      "bouba 1\n",
      "bouba 2\n",
      "bouba 3\n",
      "bouba 4\n",
      "bouba 5\n",
      "bouba 6\n",
      "bouba 7\n",
      "bouba 8\n",
      "bouba 9\n",
      "19\n",
      "kiki 0\n",
      "kiki 1\n",
      "kiki 2\n",
      "kiki 3\n",
      "kiki 4\n",
      "kiki 5\n",
      "kiki 6\n",
      "kiki 7\n",
      "kiki 8\n",
      "kiki 9\n",
      "bouba 0\n",
      "bouba 1\n",
      "bouba 2\n",
      "bouba 3\n",
      "bouba 4\n",
      "bouba 5\n",
      "bouba 6\n",
      "bouba 7\n",
      "bouba 8\n",
      "bouba 9\n",
      "20\n",
      "kiki 0\n",
      "kiki 1\n",
      "kiki 2\n",
      "kiki 3\n",
      "kiki 4\n",
      "kiki 5\n",
      "kiki 6\n",
      "kiki 7\n",
      "kiki 8\n",
      "kiki 9\n",
      "bouba 0\n",
      "bouba 1\n",
      "bouba 2\n",
      "bouba 3\n",
      "bouba 4\n",
      "bouba 5\n",
      "bouba 6\n",
      "bouba 7\n",
      "bouba 8\n",
      "bouba 9\n"
     ]
    }
   ],
   "source": [
    "F_q3 = F_q_arr_read[2]\n",
    "\n",
    "max_num_of_matches = np.zeros(20)\n",
    "max_index = np.zeros(20)\n",
    "bouba_kiki = np.zeros(20) # 0 = undefined, 1 = kiki, 2 = bouba\n",
    "for i in range(20):\n",
    "    index = str(i + 1)\n",
    "    print(index)\n",
    "    kiki_name = 'kiki' + index + '.pckl'\n",
    "    f = open(kiki_name, 'rb')\n",
    "    F_kiki_arr_read = pickle.load(f)\n",
    "    f.close()\n",
    "    for j in range(10):\n",
    "        F_kiki_tmp = F_kiki_arr_read[j]\n",
    "        num_of_matches = generate_num_of_matches_new(F_kiki_tmp, F_q3)\n",
    "        print(\"kiki\", j)\n",
    "        if num_of_matches > max_num_of_matches[i]:\n",
    "            max_num_of_matches[i] = num_of_matches\n",
    "            max_index[i] = j\n",
    "            bouba_kiki[i] = 1\n",
    "    bouba_name = 'bouba' + index + '.pckl'\n",
    "    f = open(bouba_name, 'rb')\n",
    "    F_bouba_arr_read = pickle.load(f)\n",
    "    f.close()\n",
    "    for j in range(10):\n",
    "        F_bouba_tmp = F_bouba_arr_read[j]\n",
    "        num_of_matches = generate_num_of_matches_new(F_bouba_tmp, F_q3)\n",
    "        print(\"bouba\", j)\n",
    "        if num_of_matches > max_num_of_matches[i]:\n",
    "            max_num_of_matches[i] = num_of_matches\n",
    "            max_index[i] = j\n",
    "            bouba_kiki[i] = 2"
   ]
  },
  {
   "cell_type": "code",
   "execution_count": 44,
   "metadata": {},
   "outputs": [
    {
     "name": "stdout",
     "output_type": "stream",
     "text": [
      "kiki0199\n",
      "579.0\n"
     ]
    }
   ],
   "source": [
    "argmax_matches = np.argmax(max_num_of_matches)\n",
    "result_index = 10 * argmax_matches + max_index[argmax_matches] + 1\n",
    "if(bouba_kiki[argmax_matches] == 1): print(\"kiki\" + str(int(result_index)).zfill(4))\n",
    "if(bouba_kiki[argmax_matches] == 2): print(\"bouba\" + str(int(result_index)).zfill(4))\n",
    "print(max_num_of_matches[argmax_matches])"
   ]
  },
  {
   "cell_type": "code",
   "execution_count": 45,
   "metadata": {},
   "outputs": [
    {
     "name": "stdout",
     "output_type": "stream",
     "text": [
      "1\n"
     ]
    },
    {
     "name": "stderr",
     "output_type": "stream",
     "text": [
      "<ipython-input-35-a7d86bc9395b>:2: VisibleDeprecationWarning: Creating an ndarray from ragged nested sequences (which is a list-or-tuple of lists-or-tuples-or ndarrays with different lengths or shapes) is deprecated. If you meant to do this, you must specify 'dtype=object' when creating the ndarray\n",
      "  F1_hashes = np.array(F1)[:,1]\n",
      "<ipython-input-35-a7d86bc9395b>:3: VisibleDeprecationWarning: Creating an ndarray from ragged nested sequences (which is a list-or-tuple of lists-or-tuples-or ndarrays with different lengths or shapes) is deprecated. If you meant to do this, you must specify 'dtype=object' when creating the ndarray\n",
      "  F2_hashes = np.array(F2)[:,1]\n"
     ]
    },
    {
     "name": "stdout",
     "output_type": "stream",
     "text": [
      "kiki 0\n",
      "kiki 1\n",
      "kiki 2\n",
      "kiki 3\n",
      "kiki 4\n",
      "kiki 5\n",
      "kiki 6\n",
      "kiki 7\n",
      "kiki 8\n",
      "kiki 9\n",
      "bouba 0\n",
      "bouba 1\n",
      "bouba 2\n",
      "bouba 3\n",
      "bouba 4\n",
      "bouba 5\n",
      "bouba 6\n",
      "bouba 7\n",
      "bouba 8\n",
      "bouba 9\n",
      "2\n",
      "kiki 0\n",
      "kiki 1\n",
      "kiki 2\n",
      "kiki 3\n",
      "kiki 4\n",
      "kiki 5\n",
      "kiki 6\n",
      "kiki 7\n",
      "kiki 8\n",
      "kiki 9\n",
      "bouba 0\n",
      "bouba 1\n",
      "bouba 2\n",
      "bouba 3\n",
      "bouba 4\n",
      "bouba 5\n",
      "bouba 6\n",
      "bouba 7\n",
      "bouba 8\n",
      "bouba 9\n",
      "3\n",
      "kiki 0\n",
      "kiki 1\n",
      "kiki 2\n",
      "kiki 3\n",
      "kiki 4\n",
      "kiki 5\n",
      "kiki 6\n",
      "kiki 7\n",
      "kiki 8\n",
      "kiki 9\n",
      "bouba 0\n",
      "bouba 1\n",
      "bouba 2\n",
      "bouba 3\n",
      "bouba 4\n",
      "bouba 5\n",
      "bouba 6\n",
      "bouba 7\n",
      "bouba 8\n",
      "bouba 9\n",
      "4\n",
      "kiki 0\n",
      "kiki 1\n",
      "kiki 2\n",
      "kiki 3\n",
      "kiki 4\n",
      "kiki 5\n",
      "kiki 6\n",
      "kiki 7\n",
      "kiki 8\n",
      "kiki 9\n",
      "bouba 0\n",
      "bouba 1\n",
      "bouba 2\n",
      "bouba 3\n",
      "bouba 4\n",
      "bouba 5\n",
      "bouba 6\n",
      "bouba 7\n",
      "bouba 8\n",
      "bouba 9\n",
      "5\n",
      "kiki 0\n",
      "kiki 1\n",
      "kiki 2\n",
      "kiki 3\n",
      "kiki 4\n",
      "kiki 5\n",
      "kiki 6\n",
      "kiki 7\n",
      "kiki 8\n",
      "kiki 9\n",
      "bouba 0\n",
      "bouba 1\n",
      "bouba 2\n",
      "bouba 3\n",
      "bouba 4\n",
      "bouba 5\n",
      "bouba 6\n",
      "bouba 7\n",
      "bouba 8\n",
      "bouba 9\n",
      "6\n",
      "kiki 0\n",
      "kiki 1\n",
      "kiki 2\n",
      "kiki 3\n",
      "kiki 4\n",
      "kiki 5\n",
      "kiki 6\n",
      "kiki 7\n",
      "kiki 8\n",
      "kiki 9\n",
      "bouba 0\n",
      "bouba 1\n",
      "bouba 2\n",
      "bouba 3\n",
      "bouba 4\n",
      "bouba 5\n",
      "bouba 6\n",
      "bouba 7\n",
      "bouba 8\n",
      "bouba 9\n",
      "7\n",
      "kiki 0\n",
      "kiki 1\n",
      "kiki 2\n",
      "kiki 3\n",
      "kiki 4\n",
      "kiki 5\n",
      "kiki 6\n",
      "kiki 7\n",
      "kiki 8\n",
      "kiki 9\n",
      "bouba 0\n",
      "bouba 1\n",
      "bouba 2\n",
      "bouba 3\n",
      "bouba 4\n",
      "bouba 5\n",
      "bouba 6\n",
      "bouba 7\n",
      "bouba 8\n",
      "bouba 9\n",
      "8\n",
      "kiki 0\n",
      "kiki 1\n",
      "kiki 2\n",
      "kiki 3\n",
      "kiki 4\n",
      "kiki 5\n",
      "kiki 6\n",
      "kiki 7\n",
      "kiki 8\n",
      "kiki 9\n",
      "bouba 0\n",
      "bouba 1\n",
      "bouba 2\n",
      "bouba 3\n",
      "bouba 4\n",
      "bouba 5\n",
      "bouba 6\n",
      "bouba 7\n",
      "bouba 8\n",
      "bouba 9\n",
      "9\n",
      "kiki 0\n",
      "kiki 1\n",
      "kiki 2\n",
      "kiki 3\n",
      "kiki 4\n",
      "kiki 5\n",
      "kiki 6\n",
      "kiki 7\n",
      "kiki 8\n",
      "kiki 9\n",
      "bouba 0\n",
      "bouba 1\n",
      "bouba 2\n",
      "bouba 3\n",
      "bouba 4\n",
      "bouba 5\n",
      "bouba 6\n",
      "bouba 7\n",
      "bouba 8\n",
      "bouba 9\n",
      "10\n",
      "kiki 0\n",
      "kiki 1\n",
      "kiki 2\n",
      "kiki 3\n",
      "kiki 4\n",
      "kiki 5\n",
      "kiki 6\n",
      "kiki 7\n",
      "kiki 8\n",
      "kiki 9\n",
      "bouba 0\n",
      "bouba 1\n",
      "bouba 2\n",
      "bouba 3\n",
      "bouba 4\n",
      "bouba 5\n",
      "bouba 6\n",
      "bouba 7\n",
      "bouba 8\n",
      "bouba 9\n",
      "11\n",
      "kiki 0\n",
      "kiki 1\n",
      "kiki 2\n",
      "kiki 3\n",
      "kiki 4\n",
      "kiki 5\n",
      "kiki 6\n",
      "kiki 7\n",
      "kiki 8\n",
      "kiki 9\n",
      "bouba 0\n",
      "bouba 1\n",
      "bouba 2\n",
      "bouba 3\n",
      "bouba 4\n",
      "bouba 5\n",
      "bouba 6\n",
      "bouba 7\n",
      "bouba 8\n",
      "bouba 9\n",
      "12\n",
      "kiki 0\n",
      "kiki 1\n",
      "kiki 2\n",
      "kiki 3\n",
      "kiki 4\n",
      "kiki 5\n",
      "kiki 6\n",
      "kiki 7\n",
      "kiki 8\n",
      "kiki 9\n",
      "bouba 0\n",
      "bouba 1\n",
      "bouba 2\n",
      "bouba 3\n",
      "bouba 4\n",
      "bouba 5\n",
      "bouba 6\n",
      "bouba 7\n",
      "bouba 8\n",
      "bouba 9\n",
      "13\n",
      "kiki 0\n",
      "kiki 1\n",
      "kiki 2\n",
      "kiki 3\n",
      "kiki 4\n",
      "kiki 5\n",
      "kiki 6\n",
      "kiki 7\n",
      "kiki 8\n",
      "kiki 9\n",
      "bouba 0\n",
      "bouba 1\n",
      "bouba 2\n",
      "bouba 3\n",
      "bouba 4\n",
      "bouba 5\n",
      "bouba 6\n",
      "bouba 7\n",
      "bouba 8\n",
      "bouba 9\n",
      "14\n",
      "kiki 0\n",
      "kiki 1\n",
      "kiki 2\n",
      "kiki 3\n",
      "kiki 4\n",
      "kiki 5\n",
      "kiki 6\n",
      "kiki 7\n",
      "kiki 8\n",
      "kiki 9\n",
      "bouba 0\n",
      "bouba 1\n",
      "bouba 2\n",
      "bouba 3\n",
      "bouba 4\n",
      "bouba 5\n",
      "bouba 6\n",
      "bouba 7\n",
      "bouba 8\n",
      "bouba 9\n",
      "15\n",
      "kiki 0\n",
      "kiki 1\n",
      "kiki 2\n",
      "kiki 3\n",
      "kiki 4\n",
      "kiki 5\n",
      "kiki 6\n",
      "kiki 7\n",
      "kiki 8\n",
      "kiki 9\n",
      "bouba 0\n",
      "bouba 1\n",
      "bouba 2\n",
      "bouba 3\n",
      "bouba 4\n",
      "bouba 5\n",
      "bouba 6\n",
      "bouba 7\n",
      "bouba 8\n",
      "bouba 9\n",
      "16\n",
      "kiki 0\n",
      "kiki 1\n",
      "kiki 2\n",
      "kiki 3\n",
      "kiki 4\n",
      "kiki 5\n",
      "kiki 6\n",
      "kiki 7\n",
      "kiki 8\n",
      "kiki 9\n",
      "bouba 0\n",
      "bouba 1\n",
      "bouba 2\n",
      "bouba 3\n",
      "bouba 4\n",
      "bouba 5\n",
      "bouba 6\n",
      "bouba 7\n",
      "bouba 8\n",
      "bouba 9\n",
      "17\n",
      "kiki 0\n",
      "kiki 1\n",
      "kiki 2\n",
      "kiki 3\n",
      "kiki 4\n",
      "kiki 5\n",
      "kiki 6\n",
      "kiki 7\n",
      "kiki 8\n",
      "kiki 9\n",
      "bouba 0\n",
      "bouba 1\n",
      "bouba 2\n",
      "bouba 3\n",
      "bouba 4\n",
      "bouba 5\n",
      "bouba 6\n",
      "bouba 7\n",
      "bouba 8\n",
      "bouba 9\n",
      "18\n",
      "kiki 0\n",
      "kiki 1\n",
      "kiki 2\n",
      "kiki 3\n",
      "kiki 4\n",
      "kiki 5\n",
      "kiki 6\n",
      "kiki 7\n",
      "kiki 8\n",
      "kiki 9\n",
      "bouba 0\n",
      "bouba 1\n",
      "bouba 2\n",
      "bouba 3\n",
      "bouba 4\n",
      "bouba 5\n",
      "bouba 6\n",
      "bouba 7\n",
      "bouba 8\n",
      "bouba 9\n",
      "19\n",
      "kiki 0\n",
      "kiki 1\n",
      "kiki 2\n",
      "kiki 3\n",
      "kiki 4\n",
      "kiki 5\n",
      "kiki 6\n",
      "kiki 7\n",
      "kiki 8\n",
      "kiki 9\n",
      "bouba 0\n",
      "bouba 1\n",
      "bouba 2\n",
      "bouba 3\n",
      "bouba 4\n",
      "bouba 5\n",
      "bouba 6\n",
      "bouba 7\n",
      "bouba 8\n",
      "bouba 9\n",
      "20\n",
      "kiki 0\n",
      "kiki 1\n",
      "kiki 2\n",
      "kiki 3\n",
      "kiki 4\n",
      "kiki 5\n",
      "kiki 6\n",
      "kiki 7\n",
      "kiki 8\n",
      "kiki 9\n",
      "bouba 0\n",
      "bouba 1\n",
      "bouba 2\n",
      "bouba 3\n",
      "bouba 4\n",
      "bouba 5\n",
      "bouba 6\n",
      "bouba 7\n",
      "bouba 8\n",
      "bouba 9\n"
     ]
    }
   ],
   "source": [
    "F_q4 = F_q_arr_read[3]\n",
    "\n",
    "max_num_of_matches = np.zeros(20)\n",
    "max_index = np.zeros(20)\n",
    "bouba_kiki = np.zeros(20) # 0 = undefined, 1 = kiki, 2 = bouba\n",
    "for i in range(20):\n",
    "    index = str(i + 1)\n",
    "    print(index)\n",
    "    kiki_name = 'kiki' + index + '.pckl'\n",
    "    f = open(kiki_name, 'rb')\n",
    "    F_kiki_arr_read = pickle.load(f)\n",
    "    f.close()\n",
    "    for j in range(10):\n",
    "        F_kiki_tmp = F_kiki_arr_read[j]\n",
    "        num_of_matches = generate_num_of_matches_new(F_kiki_tmp, F_q4)\n",
    "        print(\"kiki\", j)\n",
    "        if num_of_matches > max_num_of_matches[i]:\n",
    "            max_num_of_matches[i] = num_of_matches\n",
    "            max_index[i] = j\n",
    "            bouba_kiki[i] = 1\n",
    "    bouba_name = 'bouba' + index + '.pckl'\n",
    "    f = open(bouba_name, 'rb')\n",
    "    F_bouba_arr_read = pickle.load(f)\n",
    "    f.close()\n",
    "    for j in range(10):\n",
    "        F_bouba_tmp = F_bouba_arr_read[j]\n",
    "        num_of_matches = generate_num_of_matches_new(F_bouba_tmp, F_q4)\n",
    "        print(\"bouba\", j)\n",
    "        if num_of_matches > max_num_of_matches[i]:\n",
    "            max_num_of_matches[i] = num_of_matches\n",
    "            max_index[i] = j\n",
    "            bouba_kiki[i] = 2"
   ]
  },
  {
   "cell_type": "code",
   "execution_count": 46,
   "metadata": {},
   "outputs": [
    {
     "name": "stdout",
     "output_type": "stream",
     "text": [
      "kiki0043\n",
      "368.0\n"
     ]
    }
   ],
   "source": [
    "argmax_matches = np.argmax(max_num_of_matches)\n",
    "result_index = 10 * argmax_matches + max_index[argmax_matches] + 1\n",
    "if(bouba_kiki[argmax_matches] == 1): print(\"kiki\" + str(int(result_index)).zfill(4))\n",
    "if(bouba_kiki[argmax_matches] == 2): print(\"bouba\" + str(int(result_index)).zfill(4))\n",
    "print(max_num_of_matches[argmax_matches])"
   ]
  },
  {
   "cell_type": "code",
   "execution_count": 47,
   "metadata": {},
   "outputs": [
    {
     "name": "stdout",
     "output_type": "stream",
     "text": [
      "1\n"
     ]
    },
    {
     "name": "stderr",
     "output_type": "stream",
     "text": [
      "<ipython-input-35-a7d86bc9395b>:2: VisibleDeprecationWarning: Creating an ndarray from ragged nested sequences (which is a list-or-tuple of lists-or-tuples-or ndarrays with different lengths or shapes) is deprecated. If you meant to do this, you must specify 'dtype=object' when creating the ndarray\n",
      "  F1_hashes = np.array(F1)[:,1]\n",
      "<ipython-input-35-a7d86bc9395b>:3: VisibleDeprecationWarning: Creating an ndarray from ragged nested sequences (which is a list-or-tuple of lists-or-tuples-or ndarrays with different lengths or shapes) is deprecated. If you meant to do this, you must specify 'dtype=object' when creating the ndarray\n",
      "  F2_hashes = np.array(F2)[:,1]\n"
     ]
    },
    {
     "name": "stdout",
     "output_type": "stream",
     "text": [
      "kiki 0\n",
      "kiki 1\n",
      "kiki 2\n",
      "kiki 3\n",
      "kiki 4\n",
      "kiki 5\n",
      "kiki 6\n",
      "kiki 7\n",
      "kiki 8\n",
      "kiki 9\n",
      "bouba 0\n",
      "bouba 1\n",
      "bouba 2\n",
      "bouba 3\n",
      "bouba 4\n",
      "bouba 5\n",
      "bouba 6\n",
      "bouba 7\n",
      "bouba 8\n",
      "bouba 9\n",
      "2\n",
      "kiki 0\n",
      "kiki 1\n",
      "kiki 2\n",
      "kiki 3\n",
      "kiki 4\n",
      "kiki 5\n",
      "kiki 6\n",
      "kiki 7\n",
      "kiki 8\n",
      "kiki 9\n",
      "bouba 0\n",
      "bouba 1\n",
      "bouba 2\n",
      "bouba 3\n",
      "bouba 4\n",
      "bouba 5\n",
      "bouba 6\n",
      "bouba 7\n",
      "bouba 8\n",
      "bouba 9\n",
      "3\n",
      "kiki 0\n",
      "kiki 1\n",
      "kiki 2\n",
      "kiki 3\n",
      "kiki 4\n",
      "kiki 5\n",
      "kiki 6\n",
      "kiki 7\n",
      "kiki 8\n",
      "kiki 9\n",
      "bouba 0\n",
      "bouba 1\n",
      "bouba 2\n",
      "bouba 3\n",
      "bouba 4\n",
      "bouba 5\n",
      "bouba 6\n",
      "bouba 7\n",
      "bouba 8\n",
      "bouba 9\n",
      "4\n",
      "kiki 0\n",
      "kiki 1\n",
      "kiki 2\n",
      "kiki 3\n",
      "kiki 4\n",
      "kiki 5\n",
      "kiki 6\n",
      "kiki 7\n",
      "kiki 8\n",
      "kiki 9\n",
      "bouba 0\n",
      "bouba 1\n",
      "bouba 2\n",
      "bouba 3\n",
      "bouba 4\n",
      "bouba 5\n",
      "bouba 6\n",
      "bouba 7\n",
      "bouba 8\n",
      "bouba 9\n",
      "5\n",
      "kiki 0\n",
      "kiki 1\n",
      "kiki 2\n",
      "kiki 3\n",
      "kiki 4\n",
      "kiki 5\n",
      "kiki 6\n",
      "kiki 7\n",
      "kiki 8\n",
      "kiki 9\n",
      "bouba 0\n",
      "bouba 1\n",
      "bouba 2\n",
      "bouba 3\n",
      "bouba 4\n",
      "bouba 5\n",
      "bouba 6\n",
      "bouba 7\n",
      "bouba 8\n",
      "bouba 9\n",
      "6\n",
      "kiki 0\n",
      "kiki 1\n",
      "kiki 2\n",
      "kiki 3\n",
      "kiki 4\n",
      "kiki 5\n",
      "kiki 6\n",
      "kiki 7\n",
      "kiki 8\n",
      "kiki 9\n",
      "bouba 0\n",
      "bouba 1\n",
      "bouba 2\n",
      "bouba 3\n",
      "bouba 4\n",
      "bouba 5\n",
      "bouba 6\n",
      "bouba 7\n",
      "bouba 8\n",
      "bouba 9\n",
      "7\n",
      "kiki 0\n",
      "kiki 1\n",
      "kiki 2\n",
      "kiki 3\n",
      "kiki 4\n",
      "kiki 5\n",
      "kiki 6\n",
      "kiki 7\n",
      "kiki 8\n",
      "kiki 9\n",
      "bouba 0\n",
      "bouba 1\n",
      "bouba 2\n",
      "bouba 3\n",
      "bouba 4\n",
      "bouba 5\n",
      "bouba 6\n",
      "bouba 7\n",
      "bouba 8\n",
      "bouba 9\n",
      "8\n",
      "kiki 0\n",
      "kiki 1\n",
      "kiki 2\n",
      "kiki 3\n",
      "kiki 4\n",
      "kiki 5\n",
      "kiki 6\n",
      "kiki 7\n",
      "kiki 8\n",
      "kiki 9\n",
      "bouba 0\n",
      "bouba 1\n",
      "bouba 2\n",
      "bouba 3\n",
      "bouba 4\n",
      "bouba 5\n",
      "bouba 6\n",
      "bouba 7\n",
      "bouba 8\n",
      "bouba 9\n",
      "9\n",
      "kiki 0\n",
      "kiki 1\n",
      "kiki 2\n",
      "kiki 3\n",
      "kiki 4\n",
      "kiki 5\n",
      "kiki 6\n",
      "kiki 7\n",
      "kiki 8\n",
      "kiki 9\n",
      "bouba 0\n",
      "bouba 1\n",
      "bouba 2\n",
      "bouba 3\n",
      "bouba 4\n",
      "bouba 5\n",
      "bouba 6\n",
      "bouba 7\n",
      "bouba 8\n",
      "bouba 9\n",
      "10\n",
      "kiki 0\n",
      "kiki 1\n",
      "kiki 2\n",
      "kiki 3\n",
      "kiki 4\n",
      "kiki 5\n",
      "kiki 6\n",
      "kiki 7\n",
      "kiki 8\n",
      "kiki 9\n",
      "bouba 0\n",
      "bouba 1\n",
      "bouba 2\n",
      "bouba 3\n",
      "bouba 4\n",
      "bouba 5\n",
      "bouba 6\n",
      "bouba 7\n",
      "bouba 8\n",
      "bouba 9\n",
      "11\n",
      "kiki 0\n",
      "kiki 1\n",
      "kiki 2\n",
      "kiki 3\n",
      "kiki 4\n",
      "kiki 5\n",
      "kiki 6\n",
      "kiki 7\n",
      "kiki 8\n",
      "kiki 9\n",
      "bouba 0\n",
      "bouba 1\n",
      "bouba 2\n",
      "bouba 3\n",
      "bouba 4\n",
      "bouba 5\n",
      "bouba 6\n",
      "bouba 7\n",
      "bouba 8\n",
      "bouba 9\n",
      "12\n",
      "kiki 0\n",
      "kiki 1\n",
      "kiki 2\n",
      "kiki 3\n",
      "kiki 4\n",
      "kiki 5\n",
      "kiki 6\n",
      "kiki 7\n",
      "kiki 8\n",
      "kiki 9\n",
      "bouba 0\n",
      "bouba 1\n",
      "bouba 2\n",
      "bouba 3\n",
      "bouba 4\n",
      "bouba 5\n",
      "bouba 6\n",
      "bouba 7\n",
      "bouba 8\n",
      "bouba 9\n",
      "13\n",
      "kiki 0\n",
      "kiki 1\n",
      "kiki 2\n",
      "kiki 3\n",
      "kiki 4\n",
      "kiki 5\n",
      "kiki 6\n",
      "kiki 7\n",
      "kiki 8\n",
      "kiki 9\n",
      "bouba 0\n",
      "bouba 1\n",
      "bouba 2\n",
      "bouba 3\n",
      "bouba 4\n",
      "bouba 5\n",
      "bouba 6\n",
      "bouba 7\n",
      "bouba 8\n",
      "bouba 9\n",
      "14\n",
      "kiki 0\n",
      "kiki 1\n",
      "kiki 2\n",
      "kiki 3\n",
      "kiki 4\n",
      "kiki 5\n",
      "kiki 6\n",
      "kiki 7\n",
      "kiki 8\n",
      "kiki 9\n",
      "bouba 0\n",
      "bouba 1\n",
      "bouba 2\n",
      "bouba 3\n",
      "bouba 4\n",
      "bouba 5\n",
      "bouba 6\n",
      "bouba 7\n",
      "bouba 8\n",
      "bouba 9\n",
      "15\n",
      "kiki 0\n",
      "kiki 1\n",
      "kiki 2\n",
      "kiki 3\n",
      "kiki 4\n",
      "kiki 5\n",
      "kiki 6\n",
      "kiki 7\n",
      "kiki 8\n",
      "kiki 9\n",
      "bouba 0\n",
      "bouba 1\n",
      "bouba 2\n",
      "bouba 3\n",
      "bouba 4\n",
      "bouba 5\n",
      "bouba 6\n",
      "bouba 7\n",
      "bouba 8\n",
      "bouba 9\n",
      "16\n",
      "kiki 0\n",
      "kiki 1\n",
      "kiki 2\n",
      "kiki 3\n",
      "kiki 4\n",
      "kiki 5\n",
      "kiki 6\n",
      "kiki 7\n",
      "kiki 8\n",
      "kiki 9\n",
      "bouba 0\n",
      "bouba 1\n",
      "bouba 2\n",
      "bouba 3\n",
      "bouba 4\n",
      "bouba 5\n",
      "bouba 6\n",
      "bouba 7\n",
      "bouba 8\n",
      "bouba 9\n",
      "17\n",
      "kiki 0\n",
      "kiki 1\n",
      "kiki 2\n",
      "kiki 3\n",
      "kiki 4\n",
      "kiki 5\n",
      "kiki 6\n",
      "kiki 7\n",
      "kiki 8\n",
      "kiki 9\n",
      "bouba 0\n",
      "bouba 1\n",
      "bouba 2\n",
      "bouba 3\n",
      "bouba 4\n",
      "bouba 5\n",
      "bouba 6\n",
      "bouba 7\n",
      "bouba 8\n",
      "bouba 9\n",
      "18\n",
      "kiki 0\n",
      "kiki 1\n",
      "kiki 2\n",
      "kiki 3\n",
      "kiki 4\n",
      "kiki 5\n",
      "kiki 6\n",
      "kiki 7\n",
      "kiki 8\n",
      "kiki 9\n",
      "bouba 0\n",
      "bouba 1\n",
      "bouba 2\n",
      "bouba 3\n",
      "bouba 4\n",
      "bouba 5\n",
      "bouba 6\n",
      "bouba 7\n",
      "bouba 8\n",
      "bouba 9\n",
      "19\n",
      "kiki 0\n",
      "kiki 1\n",
      "kiki 2\n",
      "kiki 3\n",
      "kiki 4\n",
      "kiki 5\n",
      "kiki 6\n",
      "kiki 7\n",
      "kiki 8\n",
      "kiki 9\n",
      "bouba 0\n",
      "bouba 1\n",
      "bouba 2\n",
      "bouba 3\n",
      "bouba 4\n",
      "bouba 5\n",
      "bouba 6\n",
      "bouba 7\n",
      "bouba 8\n",
      "bouba 9\n",
      "20\n",
      "kiki 0\n",
      "kiki 1\n",
      "kiki 2\n",
      "kiki 3\n",
      "kiki 4\n",
      "kiki 5\n",
      "kiki 6\n",
      "kiki 7\n",
      "kiki 8\n",
      "kiki 9\n",
      "bouba 0\n",
      "bouba 1\n",
      "bouba 2\n",
      "bouba 3\n",
      "bouba 4\n",
      "bouba 5\n",
      "bouba 6\n",
      "bouba 7\n",
      "bouba 8\n",
      "bouba 9\n"
     ]
    }
   ],
   "source": [
    "F_q5 = F_q_arr_read[4]\n",
    "\n",
    "max_num_of_matches = np.zeros(20)\n",
    "max_index = np.zeros(20)\n",
    "bouba_kiki = np.zeros(20) # 0 = undefined, 1 = kiki, 2 = bouba\n",
    "for i in range(20):\n",
    "    index = str(i + 1)\n",
    "    print(index)\n",
    "    kiki_name = 'kiki' + index + '.pckl'\n",
    "    f = open(kiki_name, 'rb')\n",
    "    F_kiki_arr_read = pickle.load(f)\n",
    "    f.close()\n",
    "    for j in range(10):\n",
    "        F_kiki_tmp = F_kiki_arr_read[j]\n",
    "        num_of_matches = generate_num_of_matches_new(F_kiki_tmp, F_q5)\n",
    "        print(\"kiki\", j)\n",
    "        if num_of_matches > max_num_of_matches[i]:\n",
    "            max_num_of_matches[i] = num_of_matches\n",
    "            max_index[i] = j\n",
    "            bouba_kiki[i] = 1\n",
    "    bouba_name = 'bouba' + index + '.pckl'\n",
    "    f = open(bouba_name, 'rb')\n",
    "    F_bouba_arr_read = pickle.load(f)\n",
    "    f.close()\n",
    "    for j in range(10):\n",
    "        F_bouba_tmp = F_bouba_arr_read[j]\n",
    "        num_of_matches = generate_num_of_matches_new(F_bouba_tmp, F_q5)\n",
    "        print(\"bouba\", j)\n",
    "        if num_of_matches > max_num_of_matches[i]:\n",
    "            max_num_of_matches[i] = num_of_matches\n",
    "            max_index[i] = j\n",
    "            bouba_kiki[i] = 2"
   ]
  },
  {
   "cell_type": "code",
   "execution_count": 48,
   "metadata": {},
   "outputs": [
    {
     "name": "stdout",
     "output_type": "stream",
     "text": [
      "bouba0051\n",
      "389.0\n"
     ]
    }
   ],
   "source": [
    "argmax_matches = np.argmax(max_num_of_matches)\n",
    "result_index = 10 * argmax_matches + max_index[argmax_matches] + 1\n",
    "if(bouba_kiki[argmax_matches] == 1): print(\"kiki\" + str(int(result_index)).zfill(4))\n",
    "if(bouba_kiki[argmax_matches] == 2): print(\"bouba\" + str(int(result_index)).zfill(4))\n",
    "print(max_num_of_matches[argmax_matches])"
   ]
  },
  {
   "cell_type": "code",
   "execution_count": 49,
   "metadata": {},
   "outputs": [
    {
     "name": "stdout",
     "output_type": "stream",
     "text": [
      "1\n"
     ]
    },
    {
     "name": "stderr",
     "output_type": "stream",
     "text": [
      "<ipython-input-35-a7d86bc9395b>:2: VisibleDeprecationWarning: Creating an ndarray from ragged nested sequences (which is a list-or-tuple of lists-or-tuples-or ndarrays with different lengths or shapes) is deprecated. If you meant to do this, you must specify 'dtype=object' when creating the ndarray\n",
      "  F1_hashes = np.array(F1)[:,1]\n",
      "<ipython-input-35-a7d86bc9395b>:3: VisibleDeprecationWarning: Creating an ndarray from ragged nested sequences (which is a list-or-tuple of lists-or-tuples-or ndarrays with different lengths or shapes) is deprecated. If you meant to do this, you must specify 'dtype=object' when creating the ndarray\n",
      "  F2_hashes = np.array(F2)[:,1]\n"
     ]
    },
    {
     "name": "stdout",
     "output_type": "stream",
     "text": [
      "kiki 0\n",
      "kiki 1\n",
      "kiki 2\n",
      "kiki 3\n",
      "kiki 4\n",
      "kiki 5\n",
      "kiki 6\n",
      "kiki 7\n",
      "kiki 8\n",
      "kiki 9\n",
      "bouba 0\n",
      "bouba 1\n",
      "bouba 2\n",
      "bouba 3\n",
      "bouba 4\n",
      "bouba 5\n",
      "bouba 6\n",
      "bouba 7\n",
      "bouba 8\n",
      "bouba 9\n",
      "2\n",
      "kiki 0\n",
      "kiki 1\n",
      "kiki 2\n",
      "kiki 3\n",
      "kiki 4\n",
      "kiki 5\n",
      "kiki 6\n",
      "kiki 7\n",
      "kiki 8\n",
      "kiki 9\n",
      "bouba 0\n",
      "bouba 1\n",
      "bouba 2\n",
      "bouba 3\n",
      "bouba 4\n",
      "bouba 5\n",
      "bouba 6\n",
      "bouba 7\n",
      "bouba 8\n",
      "bouba 9\n",
      "3\n",
      "kiki 0\n",
      "kiki 1\n",
      "kiki 2\n",
      "kiki 3\n",
      "kiki 4\n",
      "kiki 5\n",
      "kiki 6\n",
      "kiki 7\n",
      "kiki 8\n",
      "kiki 9\n",
      "bouba 0\n",
      "bouba 1\n",
      "bouba 2\n",
      "bouba 3\n",
      "bouba 4\n",
      "bouba 5\n",
      "bouba 6\n",
      "bouba 7\n",
      "bouba 8\n",
      "bouba 9\n",
      "4\n",
      "kiki 0\n",
      "kiki 1\n",
      "kiki 2\n",
      "kiki 3\n",
      "kiki 4\n",
      "kiki 5\n",
      "kiki 6\n",
      "kiki 7\n",
      "kiki 8\n",
      "kiki 9\n",
      "bouba 0\n",
      "bouba 1\n",
      "bouba 2\n",
      "bouba 3\n",
      "bouba 4\n",
      "bouba 5\n",
      "bouba 6\n",
      "bouba 7\n",
      "bouba 8\n",
      "bouba 9\n",
      "5\n",
      "kiki 0\n",
      "kiki 1\n",
      "kiki 2\n",
      "kiki 3\n",
      "kiki 4\n",
      "kiki 5\n",
      "kiki 6\n",
      "kiki 7\n",
      "kiki 8\n",
      "kiki 9\n",
      "bouba 0\n",
      "bouba 1\n",
      "bouba 2\n",
      "bouba 3\n",
      "bouba 4\n",
      "bouba 5\n",
      "bouba 6\n",
      "bouba 7\n",
      "bouba 8\n",
      "bouba 9\n",
      "6\n",
      "kiki 0\n",
      "kiki 1\n",
      "kiki 2\n",
      "kiki 3\n",
      "kiki 4\n",
      "kiki 5\n",
      "kiki 6\n",
      "kiki 7\n",
      "kiki 8\n",
      "kiki 9\n",
      "bouba 0\n",
      "bouba 1\n",
      "bouba 2\n",
      "bouba 3\n",
      "bouba 4\n",
      "bouba 5\n",
      "bouba 6\n",
      "bouba 7\n",
      "bouba 8\n",
      "bouba 9\n",
      "7\n",
      "kiki 0\n",
      "kiki 1\n",
      "kiki 2\n",
      "kiki 3\n",
      "kiki 4\n",
      "kiki 5\n",
      "kiki 6\n",
      "kiki 7\n",
      "kiki 8\n",
      "kiki 9\n",
      "bouba 0\n",
      "bouba 1\n",
      "bouba 2\n",
      "bouba 3\n",
      "bouba 4\n",
      "bouba 5\n",
      "bouba 6\n",
      "bouba 7\n",
      "bouba 8\n",
      "bouba 9\n",
      "8\n",
      "kiki 0\n",
      "kiki 1\n",
      "kiki 2\n",
      "kiki 3\n",
      "kiki 4\n",
      "kiki 5\n",
      "kiki 6\n",
      "kiki 7\n",
      "kiki 8\n",
      "kiki 9\n",
      "bouba 0\n",
      "bouba 1\n",
      "bouba 2\n",
      "bouba 3\n",
      "bouba 4\n",
      "bouba 5\n",
      "bouba 6\n",
      "bouba 7\n",
      "bouba 8\n",
      "bouba 9\n",
      "9\n",
      "kiki 0\n",
      "kiki 1\n",
      "kiki 2\n",
      "kiki 3\n",
      "kiki 4\n",
      "kiki 5\n",
      "kiki 6\n",
      "kiki 7\n",
      "kiki 8\n",
      "kiki 9\n",
      "bouba 0\n",
      "bouba 1\n",
      "bouba 2\n",
      "bouba 3\n",
      "bouba 4\n",
      "bouba 5\n",
      "bouba 6\n",
      "bouba 7\n",
      "bouba 8\n",
      "bouba 9\n",
      "10\n",
      "kiki 0\n",
      "kiki 1\n",
      "kiki 2\n",
      "kiki 3\n",
      "kiki 4\n",
      "kiki 5\n",
      "kiki 6\n",
      "kiki 7\n",
      "kiki 8\n",
      "kiki 9\n",
      "bouba 0\n",
      "bouba 1\n",
      "bouba 2\n",
      "bouba 3\n",
      "bouba 4\n",
      "bouba 5\n",
      "bouba 6\n",
      "bouba 7\n",
      "bouba 8\n",
      "bouba 9\n",
      "11\n",
      "kiki 0\n",
      "kiki 1\n",
      "kiki 2\n",
      "kiki 3\n",
      "kiki 4\n",
      "kiki 5\n",
      "kiki 6\n",
      "kiki 7\n",
      "kiki 8\n",
      "kiki 9\n",
      "bouba 0\n",
      "bouba 1\n",
      "bouba 2\n",
      "bouba 3\n",
      "bouba 4\n",
      "bouba 5\n",
      "bouba 6\n",
      "bouba 7\n",
      "bouba 8\n",
      "bouba 9\n",
      "12\n",
      "kiki 0\n",
      "kiki 1\n",
      "kiki 2\n",
      "kiki 3\n",
      "kiki 4\n",
      "kiki 5\n",
      "kiki 6\n",
      "kiki 7\n",
      "kiki 8\n",
      "kiki 9\n",
      "bouba 0\n",
      "bouba 1\n",
      "bouba 2\n",
      "bouba 3\n",
      "bouba 4\n",
      "bouba 5\n",
      "bouba 6\n",
      "bouba 7\n",
      "bouba 8\n",
      "bouba 9\n",
      "13\n",
      "kiki 0\n",
      "kiki 1\n",
      "kiki 2\n",
      "kiki 3\n",
      "kiki 4\n",
      "kiki 5\n",
      "kiki 6\n",
      "kiki 7\n",
      "kiki 8\n",
      "kiki 9\n",
      "bouba 0\n",
      "bouba 1\n",
      "bouba 2\n",
      "bouba 3\n",
      "bouba 4\n",
      "bouba 5\n",
      "bouba 6\n",
      "bouba 7\n",
      "bouba 8\n",
      "bouba 9\n",
      "14\n",
      "kiki 0\n",
      "kiki 1\n",
      "kiki 2\n",
      "kiki 3\n",
      "kiki 4\n",
      "kiki 5\n",
      "kiki 6\n",
      "kiki 7\n",
      "kiki 8\n",
      "kiki 9\n",
      "bouba 0\n",
      "bouba 1\n",
      "bouba 2\n",
      "bouba 3\n",
      "bouba 4\n",
      "bouba 5\n",
      "bouba 6\n",
      "bouba 7\n",
      "bouba 8\n",
      "bouba 9\n",
      "15\n",
      "kiki 0\n",
      "kiki 1\n",
      "kiki 2\n",
      "kiki 3\n",
      "kiki 4\n",
      "kiki 5\n",
      "kiki 6\n",
      "kiki 7\n",
      "kiki 8\n",
      "kiki 9\n",
      "bouba 0\n",
      "bouba 1\n",
      "bouba 2\n",
      "bouba 3\n",
      "bouba 4\n",
      "bouba 5\n",
      "bouba 6\n",
      "bouba 7\n",
      "bouba 8\n",
      "bouba 9\n",
      "16\n",
      "kiki 0\n",
      "kiki 1\n",
      "kiki 2\n",
      "kiki 3\n",
      "kiki 4\n",
      "kiki 5\n",
      "kiki 6\n",
      "kiki 7\n",
      "kiki 8\n",
      "kiki 9\n",
      "bouba 0\n",
      "bouba 1\n",
      "bouba 2\n",
      "bouba 3\n",
      "bouba 4\n",
      "bouba 5\n",
      "bouba 6\n",
      "bouba 7\n",
      "bouba 8\n",
      "bouba 9\n",
      "17\n",
      "kiki 0\n",
      "kiki 1\n",
      "kiki 2\n",
      "kiki 3\n",
      "kiki 4\n",
      "kiki 5\n",
      "kiki 6\n",
      "kiki 7\n",
      "kiki 8\n",
      "kiki 9\n",
      "bouba 0\n",
      "bouba 1\n",
      "bouba 2\n",
      "bouba 3\n",
      "bouba 4\n",
      "bouba 5\n",
      "bouba 6\n",
      "bouba 7\n",
      "bouba 8\n",
      "bouba 9\n",
      "18\n",
      "kiki 0\n",
      "kiki 1\n",
      "kiki 2\n",
      "kiki 3\n",
      "kiki 4\n",
      "kiki 5\n",
      "kiki 6\n",
      "kiki 7\n",
      "kiki 8\n",
      "kiki 9\n",
      "bouba 0\n",
      "bouba 1\n",
      "bouba 2\n",
      "bouba 3\n",
      "bouba 4\n",
      "bouba 5\n",
      "bouba 6\n",
      "bouba 7\n",
      "bouba 8\n",
      "bouba 9\n",
      "19\n",
      "kiki 0\n",
      "kiki 1\n",
      "kiki 2\n",
      "kiki 3\n",
      "kiki 4\n",
      "kiki 5\n",
      "kiki 6\n",
      "kiki 7\n",
      "kiki 8\n",
      "kiki 9\n",
      "bouba 0\n",
      "bouba 1\n",
      "bouba 2\n",
      "bouba 3\n",
      "bouba 4\n",
      "bouba 5\n",
      "bouba 6\n",
      "bouba 7\n",
      "bouba 8\n",
      "bouba 9\n",
      "20\n",
      "kiki 0\n",
      "kiki 1\n",
      "kiki 2\n",
      "kiki 3\n",
      "kiki 4\n",
      "kiki 5\n",
      "kiki 6\n",
      "kiki 7\n",
      "kiki 8\n",
      "kiki 9\n",
      "bouba 0\n",
      "bouba 1\n",
      "bouba 2\n",
      "bouba 3\n",
      "bouba 4\n",
      "bouba 5\n",
      "bouba 6\n",
      "bouba 7\n",
      "bouba 8\n",
      "bouba 9\n"
     ]
    }
   ],
   "source": [
    "F_q6 = F_q_arr_read[5]\n",
    "\n",
    "max_num_of_matches = np.zeros(20)\n",
    "max_index = np.zeros(20)\n",
    "bouba_kiki = np.zeros(20) # 0 = undefined, 1 = kiki, 2 = bouba\n",
    "for i in range(20):\n",
    "    index = str(i + 1)\n",
    "    print(index)\n",
    "    kiki_name = 'kiki' + index + '.pckl'\n",
    "    f = open(kiki_name, 'rb')\n",
    "    F_kiki_arr_read = pickle.load(f)\n",
    "    f.close()\n",
    "    for j in range(10):\n",
    "        F_kiki_tmp = F_kiki_arr_read[j]\n",
    "        num_of_matches = generate_num_of_matches_new(F_kiki_tmp, F_q6)\n",
    "        print(\"kiki\", j)\n",
    "        if num_of_matches > max_num_of_matches[i]:\n",
    "            max_num_of_matches[i] = num_of_matches\n",
    "            max_index[i] = j\n",
    "            bouba_kiki[i] = 1\n",
    "    bouba_name = 'bouba' + index + '.pckl'\n",
    "    f = open(bouba_name, 'rb')\n",
    "    F_bouba_arr_read = pickle.load(f)\n",
    "    f.close()\n",
    "    for j in range(10):\n",
    "        F_bouba_tmp = F_bouba_arr_read[j]\n",
    "        num_of_matches = generate_num_of_matches_new(F_bouba_tmp, F_q6)\n",
    "        print(\"bouba\", j)\n",
    "        if num_of_matches > max_num_of_matches[i]:\n",
    "            max_num_of_matches[i] = num_of_matches\n",
    "            max_index[i] = j\n",
    "            bouba_kiki[i] = 2"
   ]
  },
  {
   "cell_type": "code",
   "execution_count": 50,
   "metadata": {},
   "outputs": [
    {
     "name": "stdout",
     "output_type": "stream",
     "text": [
      "kiki0038\n",
      "109.0\n"
     ]
    }
   ],
   "source": [
    "argmax_matches = np.argmax(max_num_of_matches)\n",
    "result_index = 10 * argmax_matches + max_index[argmax_matches] + 1\n",
    "if(bouba_kiki[argmax_matches] == 1): print(\"kiki\" + str(int(result_index)).zfill(4))\n",
    "if(bouba_kiki[argmax_matches] == 2): print(\"bouba\" + str(int(result_index)).zfill(4))\n",
    "print(max_num_of_matches[argmax_matches])"
   ]
  },
  {
   "cell_type": "code",
   "execution_count": null,
   "metadata": {},
   "outputs": [],
   "source": []
  }
 ],
 "metadata": {
  "colab": {
   "collapsed_sections": [],
   "name": "DT2470_Project_search.ipynb",
   "provenance": []
  },
  "kernelspec": {
   "display_name": "Python 3",
   "language": "python",
   "name": "python3"
  },
  "language_info": {
   "codemirror_mode": {
    "name": "ipython",
    "version": 3
   },
   "file_extension": ".py",
   "mimetype": "text/x-python",
   "name": "python",
   "nbconvert_exporter": "python",
   "pygments_lexer": "ipython3",
   "version": "3.8.5"
  }
 },
 "nbformat": 4,
 "nbformat_minor": 1
}
